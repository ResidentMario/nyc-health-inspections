{
 "cells": [
  {
   "cell_type": "markdown",
   "metadata": {},
   "source": [
    "# `geoplotlib`"
   ]
  },
  {
   "cell_type": "markdown",
   "metadata": {},
   "source": [
    "`geoplotlib` is a small but very nice looking repository which provides a bunch of fast abstractions for geographic mapping."
   ]
  },
  {
   "cell_type": "code",
   "execution_count": 1,
   "metadata": {
    "collapsed": false
   },
   "outputs": [],
   "source": [
    "import pandas as pd\n",
    "import numpy as np\n",
    "import geoplotlib\n",
    "%matplotlib inline"
   ]
  },
  {
   "cell_type": "code",
   "execution_count": 2,
   "metadata": {
    "collapsed": false
   },
   "outputs": [],
   "source": [
    "import pyproj"
   ]
  },
  {
   "cell_type": "code",
   "execution_count": 3,
   "metadata": {
    "collapsed": false
   },
   "outputs": [
    {
     "name": "stderr",
     "output_type": "stream",
     "text": [
      "C:\\Anaconda3\\envs\\dummy_env_3\\lib\\site-packages\\IPython\\core\\interactiveshell.py:2723: DtypeWarning: Columns (23,26,28,29,70,71,86) have mixed types. Specify dtype option on import or set low_memory=False.\n",
      "  interactivity=interactivity, compiler=compiler, result=result)\n"
     ]
    }
   ],
   "source": [
    "sales = pd.read_csv(\"nyc_building_sales.csv\")"
   ]
  },
  {
   "cell_type": "code",
   "execution_count": 4,
   "metadata": {
    "collapsed": true
   },
   "outputs": [],
   "source": [
    "pd.set_option(\"max_columns\", 500)"
   ]
  },
  {
   "cell_type": "code",
   "execution_count": 5,
   "metadata": {
    "collapsed": false
   },
   "outputs": [
    {
     "data": {
      "text/html": [
       "<div>\n",
       "<table border=\"1\" class=\"dataframe\">\n",
       "  <thead>\n",
       "    <tr style=\"text-align: right;\">\n",
       "      <th></th>\n",
       "      <th>Unnamed: 0</th>\n",
       "      <th>Index</th>\n",
       "      <th>Borough</th>\n",
       "      <th>Block</th>\n",
       "      <th>Lot</th>\n",
       "      <th>SalePrice</th>\n",
       "      <th>LandSquareFeet</th>\n",
       "      <th>MarketValueSqFt</th>\n",
       "      <th>CD</th>\n",
       "      <th>CT2010</th>\n",
       "      <th>CB2010</th>\n",
       "      <th>SchoolDist</th>\n",
       "      <th>Council</th>\n",
       "      <th>ZipCode</th>\n",
       "      <th>FireComp</th>\n",
       "      <th>PolicePrct</th>\n",
       "      <th>HealthArea</th>\n",
       "      <th>SanitBoro</th>\n",
       "      <th>SanitDistrict</th>\n",
       "      <th>SanitSub</th>\n",
       "      <th>Address</th>\n",
       "      <th>ZoneDist1</th>\n",
       "      <th>ZoneDist2</th>\n",
       "      <th>ZoneDist3</th>\n",
       "      <th>ZoneDist4</th>\n",
       "      <th>Overlay1</th>\n",
       "      <th>Overlay2</th>\n",
       "      <th>SPDist1</th>\n",
       "      <th>SPDist2</th>\n",
       "      <th>LtdHeight</th>\n",
       "      <th>AllZoning1</th>\n",
       "      <th>AllZoning2</th>\n",
       "      <th>SplitZone</th>\n",
       "      <th>BldgClass</th>\n",
       "      <th>LandUse</th>\n",
       "      <th>Easements</th>\n",
       "      <th>OwnerType</th>\n",
       "      <th>OwnerName</th>\n",
       "      <th>LotArea</th>\n",
       "      <th>BldgArea</th>\n",
       "      <th>ComArea</th>\n",
       "      <th>ResArea</th>\n",
       "      <th>OfficeArea</th>\n",
       "      <th>RetailArea</th>\n",
       "      <th>GarageArea</th>\n",
       "      <th>StrgeArea</th>\n",
       "      <th>FactryArea</th>\n",
       "      <th>OtherArea</th>\n",
       "      <th>AreaSource</th>\n",
       "      <th>NumBldgs</th>\n",
       "      <th>NumFloors</th>\n",
       "      <th>UnitsRes</th>\n",
       "      <th>UnitsTotal</th>\n",
       "      <th>LotFront</th>\n",
       "      <th>LotDepth</th>\n",
       "      <th>BldgFront</th>\n",
       "      <th>BldgDepth</th>\n",
       "      <th>Ext</th>\n",
       "      <th>ProxCode</th>\n",
       "      <th>IrrLotCode</th>\n",
       "      <th>LotType</th>\n",
       "      <th>BsmtCode</th>\n",
       "      <th>AssessLand</th>\n",
       "      <th>AssessTot</th>\n",
       "      <th>ExemptLand</th>\n",
       "      <th>ExemptTot</th>\n",
       "      <th>YearBuilt</th>\n",
       "      <th>BuiltCode</th>\n",
       "      <th>YearAlter1</th>\n",
       "      <th>YearAlter2</th>\n",
       "      <th>HistDist</th>\n",
       "      <th>Landmark</th>\n",
       "      <th>BuiltFAR</th>\n",
       "      <th>ResidFAR</th>\n",
       "      <th>CommFAR</th>\n",
       "      <th>FacilFAR</th>\n",
       "      <th>BoroCode</th>\n",
       "      <th>BBL</th>\n",
       "      <th>CondoNo</th>\n",
       "      <th>Tract2010</th>\n",
       "      <th>XCoord</th>\n",
       "      <th>YCoord</th>\n",
       "      <th>ZoneMap</th>\n",
       "      <th>ZMCode</th>\n",
       "      <th>Sanborn</th>\n",
       "      <th>TaxMap</th>\n",
       "      <th>EDesigNum</th>\n",
       "      <th>APPBBL</th>\n",
       "      <th>APPDate</th>\n",
       "      <th>PLUTOMapID</th>\n",
       "      <th>Version</th>\n",
       "      <th>CurFvT</th>\n",
       "      <th>NewFvT</th>\n",
       "      <th>CuravtA</th>\n",
       "      <th>AssessmentValueSqFt</th>\n",
       "      <th>EstPriorMarketValueSqFt</th>\n",
       "      <th>EstCurentMarketValueSqFt</th>\n",
       "      <th>ValueRatio</th>\n",
       "    </tr>\n",
       "  </thead>\n",
       "  <tbody>\n",
       "    <tr>\n",
       "      <th>0</th>\n",
       "      <td>0</td>\n",
       "      <td>0</td>\n",
       "      <td>Bronx</td>\n",
       "      <td>2268.0</td>\n",
       "      <td>18.0</td>\n",
       "      <td>1800000.0</td>\n",
       "      <td>2500.0</td>\n",
       "      <td>221.538462</td>\n",
       "      <td>201.0</td>\n",
       "      <td>41.0</td>\n",
       "      <td>1002.0</td>\n",
       "      <td>7.0</td>\n",
       "      <td>8.0</td>\n",
       "      <td>10454.0</td>\n",
       "      <td>E083</td>\n",
       "      <td>40.0</td>\n",
       "      <td>4500.0</td>\n",
       "      <td>2.0</td>\n",
       "      <td>1.0</td>\n",
       "      <td>2A</td>\n",
       "      <td>532 EAST 142 STREET</td>\n",
       "      <td>R6</td>\n",
       "      <td>NaN</td>\n",
       "      <td>NaN</td>\n",
       "      <td>NaN</td>\n",
       "      <td>NaN</td>\n",
       "      <td>NaN</td>\n",
       "      <td>NaN</td>\n",
       "      <td>NaN</td>\n",
       "      <td>NaN</td>\n",
       "      <td>R6</td>\n",
       "      <td>NaN</td>\n",
       "      <td>N</td>\n",
       "      <td>C1</td>\n",
       "      <td>2.0</td>\n",
       "      <td>0.0</td>\n",
       "      <td>P</td>\n",
       "      <td>HAXHARI, GAC</td>\n",
       "      <td>2500.0</td>\n",
       "      <td>8125.0</td>\n",
       "      <td>0.0</td>\n",
       "      <td>8125.0</td>\n",
       "      <td>0.0</td>\n",
       "      <td>0.0</td>\n",
       "      <td>0.0</td>\n",
       "      <td>0.0</td>\n",
       "      <td>0.0</td>\n",
       "      <td>0.0</td>\n",
       "      <td>2.0</td>\n",
       "      <td>1.0</td>\n",
       "      <td>4.0</td>\n",
       "      <td>7.0</td>\n",
       "      <td>7.0</td>\n",
       "      <td>25.0</td>\n",
       "      <td>100.0</td>\n",
       "      <td>0.0</td>\n",
       "      <td>0.0</td>\n",
       "      <td>NaN</td>\n",
       "      <td>2.0</td>\n",
       "      <td>N</td>\n",
       "      <td>5.0</td>\n",
       "      <td>2.0</td>\n",
       "      <td>2197.0</td>\n",
       "      <td>216878.0</td>\n",
       "      <td>0.0</td>\n",
       "      <td>0.0</td>\n",
       "      <td>2015.0</td>\n",
       "      <td>NaN</td>\n",
       "      <td>0.0</td>\n",
       "      <td>0.0</td>\n",
       "      <td>NaN</td>\n",
       "      <td>NaN</td>\n",
       "      <td>3.25</td>\n",
       "      <td>2.43</td>\n",
       "      <td>0.0</td>\n",
       "      <td>4.8</td>\n",
       "      <td>2.0</td>\n",
       "      <td>2.022680e+09</td>\n",
       "      <td>0.0</td>\n",
       "      <td>41.0</td>\n",
       "      <td>1007305.0</td>\n",
       "      <td>234328.0</td>\n",
       "      <td>6a</td>\n",
       "      <td>NaN</td>\n",
       "      <td>209S029</td>\n",
       "      <td>20901.0</td>\n",
       "      <td>NaN</td>\n",
       "      <td>0.0</td>\n",
       "      <td>NaN</td>\n",
       "      <td>1.0</td>\n",
       "      <td>16v1</td>\n",
       "      <td>143700.0</td>\n",
       "      <td>620769.0</td>\n",
       "      <td>2035.0</td>\n",
       "      <td>0.250462</td>\n",
       "      <td>17.686154</td>\n",
       "      <td>76.402338</td>\n",
       "      <td>2.899629</td>\n",
       "    </tr>\n",
       "  </tbody>\n",
       "</table>\n",
       "</div>"
      ],
      "text/plain": [
       "   Unnamed: 0  Index Borough   Block   Lot  SalePrice  LandSquareFeet  \\\n",
       "0           0      0   Bronx  2268.0  18.0  1800000.0          2500.0   \n",
       "\n",
       "   MarketValueSqFt     CD  CT2010  CB2010  SchoolDist  Council  ZipCode  \\\n",
       "0       221.538462  201.0    41.0  1002.0         7.0      8.0  10454.0   \n",
       "\n",
       "  FireComp  PolicePrct  HealthArea  SanitBoro  SanitDistrict SanitSub  \\\n",
       "0     E083        40.0      4500.0        2.0            1.0       2A   \n",
       "\n",
       "               Address ZoneDist1 ZoneDist2 ZoneDist3  ZoneDist4 Overlay1  \\\n",
       "0  532 EAST 142 STREET        R6       NaN       NaN        NaN      NaN   \n",
       "\n",
       "  Overlay2 SPDist1 SPDist2 LtdHeight AllZoning1 AllZoning2 SplitZone  \\\n",
       "0      NaN     NaN     NaN       NaN         R6        NaN         N   \n",
       "\n",
       "  BldgClass  LandUse  Easements OwnerType     OwnerName  LotArea  BldgArea  \\\n",
       "0        C1      2.0        0.0         P  HAXHARI, GAC   2500.0    8125.0   \n",
       "\n",
       "   ComArea  ResArea  OfficeArea  RetailArea  GarageArea  StrgeArea  \\\n",
       "0      0.0   8125.0         0.0         0.0         0.0        0.0   \n",
       "\n",
       "   FactryArea  OtherArea  AreaSource  NumBldgs  NumFloors  UnitsRes  \\\n",
       "0         0.0        0.0         2.0       1.0        4.0       7.0   \n",
       "\n",
       "   UnitsTotal  LotFront  LotDepth  BldgFront  BldgDepth  Ext  ProxCode  \\\n",
       "0         7.0      25.0     100.0        0.0        0.0  NaN       2.0   \n",
       "\n",
       "  IrrLotCode  LotType  BsmtCode  AssessLand  AssessTot  ExemptLand  ExemptTot  \\\n",
       "0          N      5.0       2.0      2197.0   216878.0         0.0        0.0   \n",
       "\n",
       "   YearBuilt BuiltCode  YearAlter1  YearAlter2 HistDist Landmark  BuiltFAR  \\\n",
       "0     2015.0       NaN         0.0         0.0      NaN      NaN      3.25   \n",
       "\n",
       "   ResidFAR  CommFAR  FacilFAR  BoroCode           BBL  CondoNo  Tract2010  \\\n",
       "0      2.43      0.0       4.8       2.0  2.022680e+09      0.0       41.0   \n",
       "\n",
       "      XCoord    YCoord ZoneMap ZMCode  Sanborn   TaxMap EDesigNum  APPBBL  \\\n",
       "0  1007305.0  234328.0      6a    NaN  209S029  20901.0       NaN     0.0   \n",
       "\n",
       "  APPDate  PLUTOMapID Version    CurFvT    NewFvT  CuravtA  \\\n",
       "0     NaN         1.0    16v1  143700.0  620769.0   2035.0   \n",
       "\n",
       "   AssessmentValueSqFt  EstPriorMarketValueSqFt  EstCurentMarketValueSqFt  \\\n",
       "0             0.250462                17.686154                 76.402338   \n",
       "\n",
       "   ValueRatio  \n",
       "0    2.899629  "
      ]
     },
     "execution_count": 5,
     "metadata": {},
     "output_type": "execute_result"
    }
   ],
   "source": [
    "sales.head(1)"
   ]
  },
  {
   "cell_type": "code",
   "execution_count": 6,
   "metadata": {
    "collapsed": false
   },
   "outputs": [],
   "source": [
    "projstr = '+proj=lcc +lat_1=40.66666666666666 +lat_2=41.03333333333333 +lat_0=40.16666666666666 +lon_0=-74 +x_0=300000 +y_0=0 +ellps=GRS80 +datum=NAD83 +to_meter=0.3048006096012192 +no_defs'\n",
    "pnyc = pyproj.Proj(projstr,\n",
    "            preserve_units=True)\n",
    "coords = [pnyc(x, y, inverse=True) for x, y in zip(sales['XCoord'], sales['YCoord'])]"
   ]
  },
  {
   "cell_type": "code",
   "execution_count": 7,
   "metadata": {
    "collapsed": false
   },
   "outputs": [],
   "source": [
    "sales['XCoord'] = [coord[0] for coord in coords]\n",
    "sales['YCoord'] = [coord[1] for coord in coords]"
   ]
  },
  {
   "cell_type": "code",
   "execution_count": 8,
   "metadata": {
    "collapsed": false
   },
   "outputs": [
    {
     "data": {
      "text/html": [
       "<div>\n",
       "<table border=\"1\" class=\"dataframe\">\n",
       "  <thead>\n",
       "    <tr style=\"text-align: right;\">\n",
       "      <th></th>\n",
       "      <th>XCoord</th>\n",
       "      <th>YCoord</th>\n",
       "    </tr>\n",
       "  </thead>\n",
       "  <tbody>\n",
       "    <tr>\n",
       "      <th>1678</th>\n",
       "      <td>-73.850081</td>\n",
       "      <td>40.856755</td>\n",
       "    </tr>\n",
       "    <tr>\n",
       "      <th>1523</th>\n",
       "      <td>-73.853486</td>\n",
       "      <td>40.845333</td>\n",
       "    </tr>\n",
       "    <tr>\n",
       "      <th>7937</th>\n",
       "      <td>-74.024192</td>\n",
       "      <td>40.630998</td>\n",
       "    </tr>\n",
       "    <tr>\n",
       "      <th>15374</th>\n",
       "      <td>-73.808698</td>\n",
       "      <td>40.764655</td>\n",
       "    </tr>\n",
       "    <tr>\n",
       "      <th>5515</th>\n",
       "      <td>-73.914251</td>\n",
       "      <td>40.701856</td>\n",
       "    </tr>\n",
       "  </tbody>\n",
       "</table>\n",
       "</div>"
      ],
      "text/plain": [
       "          XCoord     YCoord\n",
       "1678  -73.850081  40.856755\n",
       "1523  -73.853486  40.845333\n",
       "7937  -74.024192  40.630998\n",
       "15374 -73.808698  40.764655\n",
       "5515  -73.914251  40.701856"
      ]
     },
     "execution_count": 8,
     "metadata": {},
     "output_type": "execute_result"
    }
   ],
   "source": [
    "sales[['XCoord', 'YCoord']].sample(5)"
   ]
  },
  {
   "cell_type": "code",
   "execution_count": 9,
   "metadata": {
    "collapsed": true
   },
   "outputs": [],
   "source": [
    "# sales['XCoord'] = [-coord for coord in sales['XCoord']]"
   ]
  },
  {
   "cell_type": "markdown",
   "metadata": {},
   "source": [
    "## Dot map\n",
    "\n",
    "Exactly what it says on the tin."
   ]
  },
  {
   "cell_type": "code",
   "execution_count": 10,
   "metadata": {
    "collapsed": false
   },
   "outputs": [
    {
     "data": {
      "text/plain": [
       "False"
      ]
     },
     "execution_count": 10,
     "metadata": {},
     "output_type": "execute_result"
    }
   ],
   "source": [
    "(sales['YCoord'] < 1).any()"
   ]
  },
  {
   "cell_type": "markdown",
   "metadata": {},
   "source": [
    "Of note: `geoplotlib` expects the input to contain `lon` and `lat` columns, and will fail otherwise."
   ]
  },
  {
   "cell_type": "code",
   "execution_count": 11,
   "metadata": {
    "collapsed": false
   },
   "outputs": [
    {
     "name": "stdout",
     "output_type": "stream",
     "text": [
      "-74.2538745258 1e+30\n",
      "40.4988155161 1e+30\n",
      "-74.2538745258 -73.7004708799\n",
      "40.4988155161 40.9124086136\n"
     ]
    }
   ],
   "source": [
    "dat = sales[['XCoord', 'YCoord']].rename(columns = {'XCoord':'lon', 'YCoord': 'lat'}).dropna()\n",
    "print(np.min(dat['lon']), np.max(dat['lon']))\n",
    "print(np.min(dat['lat']), np.max(dat['lat']))\n",
    "dat = dat[(dat['lon'] < 100) & (dat['lat'] < 100)]\n",
    "print(np.min(dat['lon']), np.max(dat['lon']))\n",
    "print(np.min(dat['lat']), np.max(dat['lat']))"
   ]
  },
  {
   "cell_type": "code",
   "execution_count": 12,
   "metadata": {
    "collapsed": false
   },
   "outputs": [],
   "source": [
    "geoplotlib.dot(dat.sample(1000))\n",
    "geoplotlib.show()"
   ]
  },
  {
   "cell_type": "markdown",
   "metadata": {},
   "source": [
    "![alt text](Screen Shot 2016-06-27 at 11.42.02 PM.png \"\")"
   ]
  },
  {
   "cell_type": "markdown",
   "metadata": {},
   "source": [
    "Simple enough, perhaps a bit unexciting. Can we do more?"
   ]
  },
  {
   "cell_type": "markdown",
   "metadata": {},
   "source": [
    "## KDE map\n",
    "\n",
    "Produces a density map. Note, however, that the maps is not cut to shorelines. Doing that probably requires some further work in QGIS (?)."
   ]
  },
  {
   "cell_type": "code",
   "execution_count": 13,
   "metadata": {
    "collapsed": false
   },
   "outputs": [],
   "source": [
    "# help(geoplotlib.utils.BoundingBox)"
   ]
  },
  {
   "cell_type": "code",
   "execution_count": 14,
   "metadata": {
    "collapsed": false
   },
   "outputs": [
    {
     "name": "stdout",
     "output_type": "stream",
     "text": [
      "Help on function kde in module geoplotlib:\n",
      "\n",
      "kde(data, bw, cmap='hot', method='hist', scaling='sqrt', alpha=220, cut_below=None, clip_above=None, binsize=1, cmap_levels=10, show_colorbar=False)\n",
      "    Kernel density estimation visualization\n",
      "    \n",
      "    :param data: data access object\n",
      "    :param bw: kernel bandwidth (in screen coordinates)\n",
      "    :param cmap: colormap\n",
      "    :param method: if kde use KDEMultivariate from statsmodel, which provides a more accurate but much slower estimation.\n",
      "        If hist, estimates density applying gaussian smoothing on a 2D histogram, which is much faster but less accurate\n",
      "    :param scaling: colorscale, lin log or sqrt\n",
      "    :param alpha: color alpha\n",
      "    :param cut_below: densities below cut_below are not drawn\n",
      "    :param clip_above: defines the max value for the colorscale\n",
      "    :param binsize: size of the bins for hist estimator\n",
      "    :param cmap_levels: discretize colors into cmap_levels levels\n",
      "    :param show_colorbar: show colorbar\n",
      "\n"
     ]
    }
   ],
   "source": [
    "help(geoplotlib.kde)"
   ]
  },
  {
   "cell_type": "code",
   "execution_count": 15,
   "metadata": {
    "collapsed": false
   },
   "outputs": [
    {
     "name": "stdout",
     "output_type": "stream",
     "text": [
      "('smallest non-zero count', 7.1647865443840454e-10)\n",
      "('max count:', 0.60091712044454904)\n"
     ]
    }
   ],
   "source": [
    "geoplotlib.kde(dat, bw=5, cut_below=1e-4)\n",
    "\n",
    "# lowering clip_above changes the max value in the color scale\n",
    "#geoplotlib.kde(data, bw=5, cut_below=1e-4, clip_above=.1)\n",
    "\n",
    "# different bandwidths\n",
    "#geoplotlib.kde(data, bw=20, cmap='PuBuGn', cut_below=1e-4)\n",
    "#geoplotlib.kde(data, bw=2, cmap='PuBuGn', cut_below=1e-4)\n",
    "\n",
    "# linear colorscale\n",
    "#geoplotlib.kde(data, bw=5, cmap='jet', cut_below=1e-4, scaling='lin')\n",
    "\n",
    "north, west, south, east = np.max(dat['lat']), np.min(dat['lon']), np.min(dat['lat']), np.max(dat['lon'])\n",
    "geoplotlib.set_bbox(geoplotlib.utils.BoundingBox(north, west, south, east))\n",
    "geoplotlib.show()"
   ]
  },
  {
   "cell_type": "markdown",
   "metadata": {},
   "source": [
    "## Spatial map"
   ]
  },
  {
   "cell_type": "markdown",
   "metadata": {},
   "source": [
    "Spatial maps are great. Functionally they make obvious sense. The API follows:"
   ]
  },
  {
   "cell_type": "code",
   "execution_count": 17,
   "metadata": {
    "collapsed": false
   },
   "outputs": [],
   "source": [
    "# import geoplotlib\n",
    "# from geoplotlib.utils import read_csv\n",
    "\n",
    "\n",
    "# data = read_csv('./data/flights.csv')\n",
    "# geoplotlib.graph(data,\n",
    "#                  src_lat='lat_departure',\n",
    "#                  src_lon='lon_departure',\n",
    "#                  dest_lat='lat_arrival',\n",
    "#                  dest_lon='lon_arrival',\n",
    "#                  color='hot_r',\n",
    "#                  alpha=16,\n",
    "#                  linewidth=2)\n",
    "# geoplotlib.show()"
   ]
  },
  {
   "cell_type": "markdown",
   "metadata": {},
   "source": [
    "![alt text](graph-flights.png \"\")"
   ]
  },
  {
   "cell_type": "code",
   "execution_count": null,
   "metadata": {
    "collapsed": true
   },
   "outputs": [],
   "source": []
  }
 ],
 "metadata": {
  "kernelspec": {
   "display_name": "Python 3",
   "language": "python",
   "name": "python3"
  },
  "language_info": {
   "codemirror_mode": {
    "name": "ipython",
    "version": 3
   },
   "file_extension": ".py",
   "mimetype": "text/x-python",
   "name": "python",
   "nbconvert_exporter": "python",
   "pygments_lexer": "ipython3",
   "version": "3.5.1"
  }
 },
 "nbformat": 4,
 "nbformat_minor": 0
}
