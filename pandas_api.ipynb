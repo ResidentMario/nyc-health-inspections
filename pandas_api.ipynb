{
 "cells": [
  {
   "cell_type": "markdown",
   "metadata": {},
   "source": [
    "# Pandas API\n",
    "\n",
    "This notebook scopes out the capacities of the `pandas` API. Here and there I insert comparable `seaborn` plots (`seaborn` is better for composition but `pandas` is often fine for smaller plots)."
   ]
  },
  {
   "cell_type": "code",
   "execution_count": 2,
   "metadata": {
    "collapsed": false
   },
   "outputs": [],
   "source": [
    "import pandas as pd\n",
    "import numpy as np\n",
    "# import matplotlib as mpl\n",
    "import matplotlib.pyplot as plt\n",
    "%matplotlib inline"
   ]
  },
  {
   "cell_type": "code",
   "execution_count": 25,
   "metadata": {
    "collapsed": true
   },
   "outputs": [],
   "source": [
    "import seaborn as sns"
   ]
  },
  {
   "cell_type": "code",
   "execution_count": 4,
   "metadata": {
    "collapsed": false
   },
   "outputs": [
    {
     "name": "stdout",
     "output_type": "stream",
     "text": [
      "big-box-plot.png                 seaborn_api_box_violin.ipynb\r\n",
      "big-violin-plot.png              seaborn_api_categorical.ipynb\r\n",
      "nyc_building_sales.csv           seaborn_api_model_fitting.ipynb\r\n",
      "pandas_api.ipynb                 seaborn_api_multivariate.ipynb\r\n"
     ]
    }
   ],
   "source": [
    "%ls"
   ]
  },
  {
   "cell_type": "code",
   "execution_count": 5,
   "metadata": {
    "collapsed": false
   },
   "outputs": [
    {
     "name": "stderr",
     "output_type": "stream",
     "text": [
      "/Users/Honors/anaconda/lib/python3.5/site-packages/IPython/core/interactiveshell.py:2902: DtypeWarning: Columns (23,26,28,29,70,71,86) have mixed types. Specify dtype option on import or set low_memory=False.\n",
      "  interactivity=interactivity, compiler=compiler, result=result)\n"
     ]
    }
   ],
   "source": [
    "sales = pd.read_csv(\"nyc_building_sales.csv\")"
   ]
  },
  {
   "cell_type": "code",
   "execution_count": 6,
   "metadata": {
    "collapsed": true
   },
   "outputs": [],
   "source": [
    "pd.set_option(\"max_columns\", 500)"
   ]
  },
  {
   "cell_type": "code",
   "execution_count": 7,
   "metadata": {
    "collapsed": false
   },
   "outputs": [
    {
     "data": {
      "text/html": [
       "<div>\n",
       "<table border=\"1\" class=\"dataframe\">\n",
       "  <thead>\n",
       "    <tr style=\"text-align: right;\">\n",
       "      <th></th>\n",
       "      <th>Unnamed: 0</th>\n",
       "      <th>Index</th>\n",
       "      <th>Borough</th>\n",
       "      <th>Block</th>\n",
       "      <th>Lot</th>\n",
       "      <th>SalePrice</th>\n",
       "      <th>LandSquareFeet</th>\n",
       "      <th>MarketValueSqFt</th>\n",
       "      <th>CD</th>\n",
       "      <th>CT2010</th>\n",
       "      <th>CB2010</th>\n",
       "      <th>SchoolDist</th>\n",
       "      <th>Council</th>\n",
       "      <th>ZipCode</th>\n",
       "      <th>FireComp</th>\n",
       "      <th>PolicePrct</th>\n",
       "      <th>HealthArea</th>\n",
       "      <th>SanitBoro</th>\n",
       "      <th>SanitDistrict</th>\n",
       "      <th>SanitSub</th>\n",
       "      <th>Address</th>\n",
       "      <th>ZoneDist1</th>\n",
       "      <th>ZoneDist2</th>\n",
       "      <th>ZoneDist3</th>\n",
       "      <th>ZoneDist4</th>\n",
       "      <th>Overlay1</th>\n",
       "      <th>Overlay2</th>\n",
       "      <th>SPDist1</th>\n",
       "      <th>SPDist2</th>\n",
       "      <th>LtdHeight</th>\n",
       "      <th>AllZoning1</th>\n",
       "      <th>AllZoning2</th>\n",
       "      <th>SplitZone</th>\n",
       "      <th>BldgClass</th>\n",
       "      <th>LandUse</th>\n",
       "      <th>Easements</th>\n",
       "      <th>OwnerType</th>\n",
       "      <th>OwnerName</th>\n",
       "      <th>LotArea</th>\n",
       "      <th>BldgArea</th>\n",
       "      <th>ComArea</th>\n",
       "      <th>ResArea</th>\n",
       "      <th>OfficeArea</th>\n",
       "      <th>RetailArea</th>\n",
       "      <th>GarageArea</th>\n",
       "      <th>StrgeArea</th>\n",
       "      <th>FactryArea</th>\n",
       "      <th>OtherArea</th>\n",
       "      <th>AreaSource</th>\n",
       "      <th>NumBldgs</th>\n",
       "      <th>NumFloors</th>\n",
       "      <th>UnitsRes</th>\n",
       "      <th>UnitsTotal</th>\n",
       "      <th>LotFront</th>\n",
       "      <th>LotDepth</th>\n",
       "      <th>BldgFront</th>\n",
       "      <th>BldgDepth</th>\n",
       "      <th>Ext</th>\n",
       "      <th>ProxCode</th>\n",
       "      <th>IrrLotCode</th>\n",
       "      <th>LotType</th>\n",
       "      <th>BsmtCode</th>\n",
       "      <th>AssessLand</th>\n",
       "      <th>AssessTot</th>\n",
       "      <th>ExemptLand</th>\n",
       "      <th>ExemptTot</th>\n",
       "      <th>YearBuilt</th>\n",
       "      <th>BuiltCode</th>\n",
       "      <th>YearAlter1</th>\n",
       "      <th>YearAlter2</th>\n",
       "      <th>HistDist</th>\n",
       "      <th>Landmark</th>\n",
       "      <th>BuiltFAR</th>\n",
       "      <th>ResidFAR</th>\n",
       "      <th>CommFAR</th>\n",
       "      <th>FacilFAR</th>\n",
       "      <th>BoroCode</th>\n",
       "      <th>BBL</th>\n",
       "      <th>CondoNo</th>\n",
       "      <th>Tract2010</th>\n",
       "      <th>XCoord</th>\n",
       "      <th>YCoord</th>\n",
       "      <th>ZoneMap</th>\n",
       "      <th>ZMCode</th>\n",
       "      <th>Sanborn</th>\n",
       "      <th>TaxMap</th>\n",
       "      <th>EDesigNum</th>\n",
       "      <th>APPBBL</th>\n",
       "      <th>APPDate</th>\n",
       "      <th>PLUTOMapID</th>\n",
       "      <th>Version</th>\n",
       "      <th>CurFvT</th>\n",
       "      <th>NewFvT</th>\n",
       "      <th>CuravtA</th>\n",
       "      <th>AssessmentValueSqFt</th>\n",
       "      <th>EstPriorMarketValueSqFt</th>\n",
       "      <th>EstCurentMarketValueSqFt</th>\n",
       "      <th>ValueRatio</th>\n",
       "    </tr>\n",
       "  </thead>\n",
       "  <tbody>\n",
       "    <tr>\n",
       "      <th>0</th>\n",
       "      <td>0</td>\n",
       "      <td>0</td>\n",
       "      <td>Bronx</td>\n",
       "      <td>2268.0</td>\n",
       "      <td>18.0</td>\n",
       "      <td>1800000.0</td>\n",
       "      <td>2500.0</td>\n",
       "      <td>221.538462</td>\n",
       "      <td>201.0</td>\n",
       "      <td>41.0</td>\n",
       "      <td>1002.0</td>\n",
       "      <td>7.0</td>\n",
       "      <td>8.0</td>\n",
       "      <td>10454.0</td>\n",
       "      <td>E083</td>\n",
       "      <td>40.0</td>\n",
       "      <td>4500.0</td>\n",
       "      <td>2.0</td>\n",
       "      <td>1.0</td>\n",
       "      <td>2A</td>\n",
       "      <td>532 EAST 142 STREET</td>\n",
       "      <td>R6</td>\n",
       "      <td>NaN</td>\n",
       "      <td>NaN</td>\n",
       "      <td>NaN</td>\n",
       "      <td>NaN</td>\n",
       "      <td>NaN</td>\n",
       "      <td>NaN</td>\n",
       "      <td>NaN</td>\n",
       "      <td>NaN</td>\n",
       "      <td>R6</td>\n",
       "      <td>NaN</td>\n",
       "      <td>N</td>\n",
       "      <td>C1</td>\n",
       "      <td>2.0</td>\n",
       "      <td>0.0</td>\n",
       "      <td>P</td>\n",
       "      <td>HAXHARI, GAC</td>\n",
       "      <td>2500.0</td>\n",
       "      <td>8125.0</td>\n",
       "      <td>0.0</td>\n",
       "      <td>8125.0</td>\n",
       "      <td>0.0</td>\n",
       "      <td>0.0</td>\n",
       "      <td>0.0</td>\n",
       "      <td>0.0</td>\n",
       "      <td>0.0</td>\n",
       "      <td>0.0</td>\n",
       "      <td>2.0</td>\n",
       "      <td>1.0</td>\n",
       "      <td>4.0</td>\n",
       "      <td>7.0</td>\n",
       "      <td>7.0</td>\n",
       "      <td>25.0</td>\n",
       "      <td>100.0</td>\n",
       "      <td>0.0</td>\n",
       "      <td>0.0</td>\n",
       "      <td>NaN</td>\n",
       "      <td>2.0</td>\n",
       "      <td>N</td>\n",
       "      <td>5.0</td>\n",
       "      <td>2.0</td>\n",
       "      <td>2197.0</td>\n",
       "      <td>216878.0</td>\n",
       "      <td>0.0</td>\n",
       "      <td>0.0</td>\n",
       "      <td>2015.0</td>\n",
       "      <td>NaN</td>\n",
       "      <td>0.0</td>\n",
       "      <td>0.0</td>\n",
       "      <td>NaN</td>\n",
       "      <td>NaN</td>\n",
       "      <td>3.25</td>\n",
       "      <td>2.43</td>\n",
       "      <td>0.0</td>\n",
       "      <td>4.8</td>\n",
       "      <td>2.0</td>\n",
       "      <td>2.022680e+09</td>\n",
       "      <td>0.0</td>\n",
       "      <td>41.0</td>\n",
       "      <td>1007305.0</td>\n",
       "      <td>234328.0</td>\n",
       "      <td>6a</td>\n",
       "      <td>NaN</td>\n",
       "      <td>209S029</td>\n",
       "      <td>20901.0</td>\n",
       "      <td>NaN</td>\n",
       "      <td>0.0</td>\n",
       "      <td>NaN</td>\n",
       "      <td>1.0</td>\n",
       "      <td>16v1</td>\n",
       "      <td>143700.0</td>\n",
       "      <td>620769.0</td>\n",
       "      <td>2035.0</td>\n",
       "      <td>0.250462</td>\n",
       "      <td>17.686154</td>\n",
       "      <td>76.402338</td>\n",
       "      <td>2.899629</td>\n",
       "    </tr>\n",
       "  </tbody>\n",
       "</table>\n",
       "</div>"
      ],
      "text/plain": [
       "   Unnamed: 0  Index Borough   Block   Lot  SalePrice  LandSquareFeet  \\\n",
       "0           0      0   Bronx  2268.0  18.0  1800000.0          2500.0   \n",
       "\n",
       "   MarketValueSqFt     CD  CT2010  CB2010  SchoolDist  Council  ZipCode  \\\n",
       "0       221.538462  201.0    41.0  1002.0         7.0      8.0  10454.0   \n",
       "\n",
       "  FireComp  PolicePrct  HealthArea  SanitBoro  SanitDistrict SanitSub  \\\n",
       "0     E083        40.0      4500.0        2.0            1.0       2A   \n",
       "\n",
       "               Address ZoneDist1 ZoneDist2 ZoneDist3  ZoneDist4 Overlay1  \\\n",
       "0  532 EAST 142 STREET        R6       NaN       NaN        NaN      NaN   \n",
       "\n",
       "  Overlay2 SPDist1 SPDist2 LtdHeight AllZoning1 AllZoning2 SplitZone  \\\n",
       "0      NaN     NaN     NaN       NaN         R6        NaN         N   \n",
       "\n",
       "  BldgClass  LandUse  Easements OwnerType     OwnerName  LotArea  BldgArea  \\\n",
       "0        C1      2.0        0.0         P  HAXHARI, GAC   2500.0    8125.0   \n",
       "\n",
       "   ComArea  ResArea  OfficeArea  RetailArea  GarageArea  StrgeArea  \\\n",
       "0      0.0   8125.0         0.0         0.0         0.0        0.0   \n",
       "\n",
       "   FactryArea  OtherArea  AreaSource  NumBldgs  NumFloors  UnitsRes  \\\n",
       "0         0.0        0.0         2.0       1.0        4.0       7.0   \n",
       "\n",
       "   UnitsTotal  LotFront  LotDepth  BldgFront  BldgDepth  Ext  ProxCode  \\\n",
       "0         7.0      25.0     100.0        0.0        0.0  NaN       2.0   \n",
       "\n",
       "  IrrLotCode  LotType  BsmtCode  AssessLand  AssessTot  ExemptLand  ExemptTot  \\\n",
       "0          N      5.0       2.0      2197.0   216878.0         0.0        0.0   \n",
       "\n",
       "   YearBuilt BuiltCode  YearAlter1  YearAlter2 HistDist Landmark  BuiltFAR  \\\n",
       "0     2015.0       NaN         0.0         0.0      NaN      NaN      3.25   \n",
       "\n",
       "   ResidFAR  CommFAR  FacilFAR  BoroCode           BBL  CondoNo  Tract2010  \\\n",
       "0      2.43      0.0       4.8       2.0  2.022680e+09      0.0       41.0   \n",
       "\n",
       "      XCoord    YCoord ZoneMap ZMCode  Sanborn   TaxMap EDesigNum  APPBBL  \\\n",
       "0  1007305.0  234328.0      6a    NaN  209S029  20901.0       NaN     0.0   \n",
       "\n",
       "  APPDate  PLUTOMapID Version    CurFvT    NewFvT  CuravtA  \\\n",
       "0     NaN         1.0    16v1  143700.0  620769.0   2035.0   \n",
       "\n",
       "   AssessmentValueSqFt  EstPriorMarketValueSqFt  EstCurentMarketValueSqFt  \\\n",
       "0             0.250462                17.686154                 76.402338   \n",
       "\n",
       "   ValueRatio  \n",
       "0    2.899629  "
      ]
     },
     "execution_count": 7,
     "metadata": {},
     "output_type": "execute_result"
    }
   ],
   "source": [
    "sales.head(1)"
   ]
  },
  {
   "cell_type": "code",
   "execution_count": 26,
   "metadata": {
    "collapsed": false
   },
   "outputs": [
    {
     "data": {
      "text/plain": [
       "<matplotlib.axes._subplots.AxesSubplot at 0x11b2235c0>"
      ]
     },
     "execution_count": 26,
     "metadata": {},
     "output_type": "execute_result"
    },
    {
     "data": {
      "image/png": "[encoded data removed]",
      "text/plain": [
       "<matplotlib.figure.Figure at 0x11b20fa58>"
      ]
     },
     "metadata": {},
     "output_type": "display_data"
    }
   ],
   "source": [
    "sales[['LandSquareFeet', 'SalePrice']].sort_values(by='LandSquareFeet').plot(x='LandSquareFeet', y='SalePrice')"
   ]
  },
  {
   "cell_type": "code",
   "execution_count": 40,
   "metadata": {
    "collapsed": false
   },
   "outputs": [
    {
     "data": {
      "text/plain": [
       "<matplotlib.lines.Line2D at 0x11b7e5cc0>"
      ]
     },
     "execution_count": 40,
     "metadata": {},
     "output_type": "execute_result"
    },
    {
     "data": {
      "image/png": "[encoded data removed]",
      "text/plain": [
       "<matplotlib.figure.Figure at 0x11b346828>"
      ]
     },
     "metadata": {},
     "output_type": "display_data"
    }
   ],
   "source": [
    "sales['Borough'].value_counts().plot.bar()\n",
    "plt.axhline(np.mean(sales['Borough'].value_counts().values), color='w')"
   ]
  },
  {
   "cell_type": "code",
   "execution_count": 36,
   "metadata": {
    "collapsed": true
   },
   "outputs": [],
   "source": [
    "num_index = sales.groupby('Borough').count()['Index'].sort_values(ascending=False).index"
   ]
  },
  {
   "cell_type": "code",
   "execution_count": 39,
   "metadata": {
    "collapsed": false
   },
   "outputs": [
    {
     "data": {
      "text/plain": [
       "<matplotlib.lines.Line2D at 0x11b7a0048>"
      ]
     },
     "execution_count": 39,
     "metadata": {},
     "output_type": "execute_result"
    },
    {
     "data": {
      "image/png": "[encoded data removed]",
      "text/plain": [
       "<matplotlib.figure.Figure at 0x11b79cfd0>"
      ]
     },
     "metadata": {},
     "output_type": "display_data"
    }
   ],
   "source": [
    "sns.countplot(x='Borough', data=sales, order=num_index)\n",
    "plt.axhline(np.mean(sales['Borough'].value_counts().values), color='w')"
   ]
  },
  {
   "cell_type": "markdown",
   "metadata": {},
   "source": [
    "`seaborn` doesn't sort the bars any particular way by default, you have to specify that manually using `order`, which requires computing that information&mdash;rather burdensome."
   ]
  },
  {
   "cell_type": "code",
   "execution_count": null,
   "metadata": {
    "collapsed": true
   },
   "outputs": [],
   "source": []
  }
 ],
 "metadata": {
  "kernelspec": {
   "display_name": "Python 3",
   "language": "python",
   "name": "python3"
  },
  "language_info": {
   "codemirror_mode": {
    "name": "ipython",
    "version": 3
   },
   "file_extension": ".py",
   "mimetype": "text/x-python",
   "name": "python",
   "nbconvert_exporter": "python",
   "pygments_lexer": "ipython3",
   "version": "3.5.1"
  }
 },
 "nbformat": 4,
 "nbformat_minor": 0
}
