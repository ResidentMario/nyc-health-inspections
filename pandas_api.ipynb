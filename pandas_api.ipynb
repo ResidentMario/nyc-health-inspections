{
 "cells": [
  {
   "cell_type": "markdown",
   "metadata": {},
   "source": [
    "# Pandas API\n",
    "\n",
    "This notebook scopes out the capacities of the `pandas` API. Here and there I insert comparable `seaborn` plots (`seaborn` is better for composition but `pandas` is often fine for smaller plots)."
   ]
  },
  {
   "cell_type": "code",
   "execution_count": 1,
   "metadata": {
    "collapsed": false
   },
   "outputs": [],
   "source": [
    "import pandas as pd\n",
    "import numpy as np\n",
    "# import matplotlib as mpl\n",
    "import matplotlib.pyplot as plt\n",
    "%matplotlib inline"
   ]
  },
  {
   "cell_type": "code",
   "execution_count": 2,
   "metadata": {
    "collapsed": true
   },
   "outputs": [],
   "source": [
    "import seaborn as sns"
   ]
  },
  {
   "cell_type": "code",
   "execution_count": 3,
   "metadata": {
    "collapsed": false
   },
   "outputs": [
    {
     "name": "stdout",
     "output_type": "stream",
     "text": [
      " Volume in drive C is SSD_80GB\n",
      " Volume Serial Number is 9279-00B2\n",
      "\n",
      " Directory of C:\\Users\\Alex\\Desktop\\nyc-health-inspections\n",
      "\n",
      "06/19/2016  02:57 PM    <DIR>          .\n",
      "06/19/2016  02:57 PM    <DIR>          ..\n",
      "06/17/2016  07:59 PM                82 .gitignore\n",
      "06/18/2016  05:02 PM    <DIR>          .ipynb_checkpoints\n",
      "06/17/2016  09:25 PM           419,403 big-box-plot.png\n",
      "06/17/2016  07:59 PM           587,844 big-violin-plot.png\n",
      "06/17/2016  08:08 PM       163,828,437 DOHMH_New_York_City_Restaurant_Inspection_Results.csv\n",
      "05/22/2016  11:53 AM        14,261,259 nyc_building_sales.csv\n",
      "06/19/2016  02:57 PM            73,706 pandas_api.ipynb\n",
      "06/18/2016  05:44 PM         1,034,629 seaborn_api_box_violin.ipynb\n",
      "06/18/2016  06:57 PM           326,693 seaborn_api_categorical.ipynb\n",
      "06/18/2016  06:02 PM           697,469 seaborn_api_model_fitting.ipynb\n",
      "06/18/2016  02:08 PM         1,306,415 seaborn_api_multivariate.ipynb\n",
      "              10 File(s)    182,535,937 bytes\n",
      "               3 Dir(s)  11,617,660,928 bytes free\n"
     ]
    }
   ],
   "source": [
    "%ls"
   ]
  },
  {
   "cell_type": "code",
   "execution_count": 4,
   "metadata": {
    "collapsed": false
   },
   "outputs": [
    {
     "name": "stderr",
     "output_type": "stream",
     "text": [
      "C:\\Users\\Alex\\Anaconda3\\lib\\site-packages\\IPython\\core\\interactiveshell.py:2902: DtypeWarning: Columns (23,26,28,29,70,71,86) have mixed types. Specify dtype option on import or set low_memory=False.\n",
      "  interactivity=interactivity, compiler=compiler, result=result)\n"
     ]
    }
   ],
   "source": [
    "sales = pd.read_csv(\"nyc_building_sales.csv\")"
   ]
  },
  {
   "cell_type": "code",
   "execution_count": 5,
   "metadata": {
    "collapsed": true
   },
   "outputs": [],
   "source": [
    "pd.set_option(\"max_columns\", 500)"
   ]
  },
  {
   "cell_type": "code",
   "execution_count": 6,
   "metadata": {
    "collapsed": false
   },
   "outputs": [
    {
     "data": {
      "text/html": [
       "<div>\n",
       "<table border=\"1\" class=\"dataframe\">\n",
       "  <thead>\n",
       "    <tr style=\"text-align: right;\">\n",
       "      <th></th>\n",
       "      <th>Unnamed: 0</th>\n",
       "      <th>Index</th>\n",
       "      <th>Borough</th>\n",
       "      <th>Block</th>\n",
       "      <th>Lot</th>\n",
       "      <th>SalePrice</th>\n",
       "      <th>LandSquareFeet</th>\n",
       "      <th>MarketValueSqFt</th>\n",
       "      <th>CD</th>\n",
       "      <th>CT2010</th>\n",
       "      <th>CB2010</th>\n",
       "      <th>SchoolDist</th>\n",
       "      <th>Council</th>\n",
       "      <th>ZipCode</th>\n",
       "      <th>FireComp</th>\n",
       "      <th>PolicePrct</th>\n",
       "      <th>HealthArea</th>\n",
       "      <th>SanitBoro</th>\n",
       "      <th>SanitDistrict</th>\n",
       "      <th>SanitSub</th>\n",
       "      <th>Address</th>\n",
       "      <th>ZoneDist1</th>\n",
       "      <th>ZoneDist2</th>\n",
       "      <th>ZoneDist3</th>\n",
       "      <th>ZoneDist4</th>\n",
       "      <th>Overlay1</th>\n",
       "      <th>Overlay2</th>\n",
       "      <th>SPDist1</th>\n",
       "      <th>SPDist2</th>\n",
       "      <th>LtdHeight</th>\n",
       "      <th>AllZoning1</th>\n",
       "      <th>AllZoning2</th>\n",
       "      <th>SplitZone</th>\n",
       "      <th>BldgClass</th>\n",
       "      <th>LandUse</th>\n",
       "      <th>Easements</th>\n",
       "      <th>OwnerType</th>\n",
       "      <th>OwnerName</th>\n",
       "      <th>LotArea</th>\n",
       "      <th>BldgArea</th>\n",
       "      <th>ComArea</th>\n",
       "      <th>ResArea</th>\n",
       "      <th>OfficeArea</th>\n",
       "      <th>RetailArea</th>\n",
       "      <th>GarageArea</th>\n",
       "      <th>StrgeArea</th>\n",
       "      <th>FactryArea</th>\n",
       "      <th>OtherArea</th>\n",
       "      <th>AreaSource</th>\n",
       "      <th>NumBldgs</th>\n",
       "      <th>NumFloors</th>\n",
       "      <th>UnitsRes</th>\n",
       "      <th>UnitsTotal</th>\n",
       "      <th>LotFront</th>\n",
       "      <th>LotDepth</th>\n",
       "      <th>BldgFront</th>\n",
       "      <th>BldgDepth</th>\n",
       "      <th>Ext</th>\n",
       "      <th>ProxCode</th>\n",
       "      <th>IrrLotCode</th>\n",
       "      <th>LotType</th>\n",
       "      <th>BsmtCode</th>\n",
       "      <th>AssessLand</th>\n",
       "      <th>AssessTot</th>\n",
       "      <th>ExemptLand</th>\n",
       "      <th>ExemptTot</th>\n",
       "      <th>YearBuilt</th>\n",
       "      <th>BuiltCode</th>\n",
       "      <th>YearAlter1</th>\n",
       "      <th>YearAlter2</th>\n",
       "      <th>HistDist</th>\n",
       "      <th>Landmark</th>\n",
       "      <th>BuiltFAR</th>\n",
       "      <th>ResidFAR</th>\n",
       "      <th>CommFAR</th>\n",
       "      <th>FacilFAR</th>\n",
       "      <th>BoroCode</th>\n",
       "      <th>BBL</th>\n",
       "      <th>CondoNo</th>\n",
       "      <th>Tract2010</th>\n",
       "      <th>XCoord</th>\n",
       "      <th>YCoord</th>\n",
       "      <th>ZoneMap</th>\n",
       "      <th>ZMCode</th>\n",
       "      <th>Sanborn</th>\n",
       "      <th>TaxMap</th>\n",
       "      <th>EDesigNum</th>\n",
       "      <th>APPBBL</th>\n",
       "      <th>APPDate</th>\n",
       "      <th>PLUTOMapID</th>\n",
       "      <th>Version</th>\n",
       "      <th>CurFvT</th>\n",
       "      <th>NewFvT</th>\n",
       "      <th>CuravtA</th>\n",
       "      <th>AssessmentValueSqFt</th>\n",
       "      <th>EstPriorMarketValueSqFt</th>\n",
       "      <th>EstCurentMarketValueSqFt</th>\n",
       "      <th>ValueRatio</th>\n",
       "    </tr>\n",
       "  </thead>\n",
       "  <tbody>\n",
       "    <tr>\n",
       "      <th>0</th>\n",
       "      <td>0</td>\n",
       "      <td>0</td>\n",
       "      <td>Bronx</td>\n",
       "      <td>2268</td>\n",
       "      <td>18</td>\n",
       "      <td>1800000</td>\n",
       "      <td>2500</td>\n",
       "      <td>221.538462</td>\n",
       "      <td>201</td>\n",
       "      <td>41</td>\n",
       "      <td>1002</td>\n",
       "      <td>7</td>\n",
       "      <td>8</td>\n",
       "      <td>10454</td>\n",
       "      <td>E083</td>\n",
       "      <td>40</td>\n",
       "      <td>4500</td>\n",
       "      <td>2</td>\n",
       "      <td>1</td>\n",
       "      <td>2A</td>\n",
       "      <td>532 EAST 142 STREET</td>\n",
       "      <td>R6</td>\n",
       "      <td>NaN</td>\n",
       "      <td>NaN</td>\n",
       "      <td>NaN</td>\n",
       "      <td>NaN</td>\n",
       "      <td>NaN</td>\n",
       "      <td>NaN</td>\n",
       "      <td>NaN</td>\n",
       "      <td>NaN</td>\n",
       "      <td>R6</td>\n",
       "      <td>NaN</td>\n",
       "      <td>N</td>\n",
       "      <td>C1</td>\n",
       "      <td>2</td>\n",
       "      <td>0</td>\n",
       "      <td>P</td>\n",
       "      <td>HAXHARI, GAC</td>\n",
       "      <td>2500</td>\n",
       "      <td>8125</td>\n",
       "      <td>0</td>\n",
       "      <td>8125</td>\n",
       "      <td>0</td>\n",
       "      <td>0</td>\n",
       "      <td>0</td>\n",
       "      <td>0</td>\n",
       "      <td>0</td>\n",
       "      <td>0</td>\n",
       "      <td>2</td>\n",
       "      <td>1</td>\n",
       "      <td>4</td>\n",
       "      <td>7</td>\n",
       "      <td>7</td>\n",
       "      <td>25</td>\n",
       "      <td>100</td>\n",
       "      <td>0</td>\n",
       "      <td>0</td>\n",
       "      <td>NaN</td>\n",
       "      <td>2</td>\n",
       "      <td>N</td>\n",
       "      <td>5</td>\n",
       "      <td>2</td>\n",
       "      <td>2197</td>\n",
       "      <td>216878</td>\n",
       "      <td>0</td>\n",
       "      <td>0</td>\n",
       "      <td>2015</td>\n",
       "      <td>NaN</td>\n",
       "      <td>0</td>\n",
       "      <td>0</td>\n",
       "      <td>NaN</td>\n",
       "      <td>NaN</td>\n",
       "      <td>3.25</td>\n",
       "      <td>2.43</td>\n",
       "      <td>0</td>\n",
       "      <td>4.8</td>\n",
       "      <td>2</td>\n",
       "      <td>2022680018</td>\n",
       "      <td>0</td>\n",
       "      <td>41</td>\n",
       "      <td>1007305</td>\n",
       "      <td>234328</td>\n",
       "      <td>6a</td>\n",
       "      <td>NaN</td>\n",
       "      <td>209S029</td>\n",
       "      <td>20901</td>\n",
       "      <td>NaN</td>\n",
       "      <td>0</td>\n",
       "      <td>NaN</td>\n",
       "      <td>1</td>\n",
       "      <td>16v1</td>\n",
       "      <td>143700</td>\n",
       "      <td>620769</td>\n",
       "      <td>2035</td>\n",
       "      <td>0.250462</td>\n",
       "      <td>17.686154</td>\n",
       "      <td>76.402338</td>\n",
       "      <td>2.899629</td>\n",
       "    </tr>\n",
       "  </tbody>\n",
       "</table>\n",
       "</div>"
      ],
      "text/plain": [
       "   Unnamed: 0  Index Borough  Block  Lot  SalePrice  LandSquareFeet  \\\n",
       "0           0      0   Bronx   2268   18    1800000            2500   \n",
       "\n",
       "   MarketValueSqFt   CD  CT2010  CB2010  SchoolDist  Council  ZipCode  \\\n",
       "0       221.538462  201      41    1002           7        8    10454   \n",
       "\n",
       "  FireComp  PolicePrct  HealthArea  SanitBoro  SanitDistrict SanitSub  \\\n",
       "0     E083          40        4500          2              1       2A   \n",
       "\n",
       "               Address ZoneDist1 ZoneDist2 ZoneDist3  ZoneDist4 Overlay1  \\\n",
       "0  532 EAST 142 STREET        R6       NaN       NaN        NaN      NaN   \n",
       "\n",
       "  Overlay2 SPDist1 SPDist2 LtdHeight AllZoning1 AllZoning2 SplitZone  \\\n",
       "0      NaN     NaN     NaN       NaN         R6        NaN         N   \n",
       "\n",
       "  BldgClass  LandUse  Easements OwnerType     OwnerName  LotArea  BldgArea  \\\n",
       "0        C1        2          0         P  HAXHARI, GAC     2500      8125   \n",
       "\n",
       "   ComArea  ResArea  OfficeArea  RetailArea  GarageArea  StrgeArea  \\\n",
       "0        0     8125           0           0           0          0   \n",
       "\n",
       "   FactryArea  OtherArea  AreaSource  NumBldgs  NumFloors  UnitsRes  \\\n",
       "0           0          0           2         1          4         7   \n",
       "\n",
       "   UnitsTotal  LotFront  LotDepth  BldgFront  BldgDepth  Ext  ProxCode  \\\n",
       "0           7        25       100          0          0  NaN         2   \n",
       "\n",
       "  IrrLotCode  LotType  BsmtCode  AssessLand  AssessTot  ExemptLand  ExemptTot  \\\n",
       "0          N        5         2        2197     216878           0          0   \n",
       "\n",
       "   YearBuilt BuiltCode  YearAlter1  YearAlter2 HistDist Landmark  BuiltFAR  \\\n",
       "0       2015       NaN           0           0      NaN      NaN      3.25   \n",
       "\n",
       "   ResidFAR  CommFAR  FacilFAR  BoroCode         BBL  CondoNo  Tract2010  \\\n",
       "0      2.43        0       4.8         2  2022680018        0         41   \n",
       "\n",
       "    XCoord  YCoord ZoneMap ZMCode  Sanborn  TaxMap EDesigNum  APPBBL APPDate  \\\n",
       "0  1007305  234328      6a    NaN  209S029   20901       NaN       0     NaN   \n",
       "\n",
       "   PLUTOMapID Version  CurFvT  NewFvT  CuravtA  AssessmentValueSqFt  \\\n",
       "0           1    16v1  143700  620769     2035             0.250462   \n",
       "\n",
       "   EstPriorMarketValueSqFt  EstCurentMarketValueSqFt  ValueRatio  \n",
       "0                17.686154                 76.402338    2.899629  "
      ]
     },
     "execution_count": 6,
     "metadata": {},
     "output_type": "execute_result"
    }
   ],
   "source": [
    "sales.head(1)"
   ]
  },
  {
   "cell_type": "code",
   "execution_count": 7,
   "metadata": {
    "collapsed": false
   },
   "outputs": [
    {
     "data": {
      "text/plain": [
       "<matplotlib.axes._subplots.AxesSubplot at 0xb5609e8>"
      ]
     },
     "execution_count": 7,
     "metadata": {},
     "output_type": "execute_result"
    },
    {
     "data": {
      "image/png": "[encoded data removed]",
      "text/plain": [
       "<matplotlib.figure.Figure at 0xb557128>"
      ]
     },
     "metadata": {},
     "output_type": "display_data"
    }
   ],
   "source": [
    "sales[['LandSquareFeet', 'SalePrice']].sort_values(by='LandSquareFeet').plot(x='LandSquareFeet', y='SalePrice')"
   ]
  },
  {
   "cell_type": "markdown",
   "metadata": {},
   "source": [
    "## Bar chart"
   ]
  },
  {
   "cell_type": "code",
   "execution_count": 8,
   "metadata": {
    "collapsed": false
   },
   "outputs": [
    {
     "data": {
      "text/plain": [
       "<matplotlib.lines.Line2D at 0xafa94a8>"
      ]
     },
     "execution_count": 8,
     "metadata": {},
     "output_type": "execute_result"
    },
    {
     "data": {
      "image/png": "[encoded data removed]",
      "text/plain": [
       "<matplotlib.figure.Figure at 0xafa91d0>"
      ]
     },
     "metadata": {},
     "output_type": "display_data"
    }
   ],
   "source": [
    "sales['Borough'].value_counts().plot.bar()\n",
    "plt.axhline(np.mean(sales['Borough'].value_counts().values), color='w')"
   ]
  },
  {
   "cell_type": "code",
   "execution_count": 9,
   "metadata": {
    "collapsed": true
   },
   "outputs": [],
   "source": [
    "num_index = sales.groupby('Borough').count()['Index'].sort_values(ascending=False).index"
   ]
  },
  {
   "cell_type": "code",
   "execution_count": 10,
   "metadata": {
    "collapsed": false
   },
   "outputs": [
    {
     "data": {
      "text/plain": [
       "<matplotlib.lines.Line2D at 0xabf2978>"
      ]
     },
     "execution_count": 10,
     "metadata": {},
     "output_type": "execute_result"
    },
    {
     "data": {
      "image/png": "[encoded data removed]",
      "text/plain": [
       "<matplotlib.figure.Figure at 0xac24a58>"
      ]
     },
     "metadata": {},
     "output_type": "display_data"
    }
   ],
   "source": [
    "sns.countplot(x='Borough', data=sales, order=num_index)\n",
    "plt.axhline(np.mean(sales['Borough'].value_counts().values), color='w')"
   ]
  },
  {
   "cell_type": "markdown",
   "metadata": {},
   "source": [
    "`seaborn` doesn't sort the bars any particular way by default, you have to specify that manually using `order`, which requires computing that information&mdash;rather burdensome."
   ]
  },
  {
   "cell_type": "markdown",
   "metadata": {},
   "source": [
    "## Multi-bar bar chart"
   ]
  },
  {
   "cell_type": "markdown",
   "metadata": {},
   "source": [
    "To plot a multi-line bar chart `pandas` input needs to be reshaped into the proper format.\n",
    "\n",
    "First let's create a dummy variable that's interesting to look at."
   ]
  },
  {
   "cell_type": "code",
   "execution_count": 11,
   "metadata": {
    "collapsed": true
   },
   "outputs": [],
   "source": [
    "owner_dummy = sales[sales['SalePrice'] < 1*10**9].copy()\n",
    "owner_dummy['P/NP'] = (owner_dummy['OwnerType'] == 'P').replace(True, \"P\").replace(False, \"NP\")"
   ]
  },
  {
   "cell_type": "markdown",
   "metadata": {},
   "source": [
    "I do the view in two different ways.\n",
    "\n",
    "First way, manually using `groupby`."
   ]
  },
  {
   "cell_type": "code",
   "execution_count": 64,
   "metadata": {
    "collapsed": false
   },
   "outputs": [
    {
     "data": {
      "text/html": [
       "<div>\n",
       "<table border=\"1\" class=\"dataframe\">\n",
       "  <thead>\n",
       "    <tr>\n",
       "      <th></th>\n",
       "      <th colspan=\"2\" halign=\"left\">OwnerType</th>\n",
       "    </tr>\n",
       "    <tr>\n",
       "      <th>P/NP</th>\n",
       "      <th>NP</th>\n",
       "      <th>P</th>\n",
       "    </tr>\n",
       "    <tr>\n",
       "      <th>Borough</th>\n",
       "      <th></th>\n",
       "      <th></th>\n",
       "    </tr>\n",
       "  </thead>\n",
       "  <tbody>\n",
       "    <tr>\n",
       "      <th>Bronx</th>\n",
       "      <td>10</td>\n",
       "      <td>430</td>\n",
       "    </tr>\n",
       "    <tr>\n",
       "      <th>Brooklyn</th>\n",
       "      <td>16</td>\n",
       "      <td>1084</td>\n",
       "    </tr>\n",
       "    <tr>\n",
       "      <th>Manhattan</th>\n",
       "      <td>10</td>\n",
       "      <td>389</td>\n",
       "    </tr>\n",
       "    <tr>\n",
       "      <th>Queens</th>\n",
       "      <td>26</td>\n",
       "      <td>495</td>\n",
       "    </tr>\n",
       "    <tr>\n",
       "      <th>Staten Island</th>\n",
       "      <td>9</td>\n",
       "      <td>140</td>\n",
       "    </tr>\n",
       "  </tbody>\n",
       "</table>\n",
       "</div>"
      ],
      "text/plain": [
       "              OwnerType      \n",
       "P/NP                 NP     P\n",
       "Borough                      \n",
       "Bronx                10   430\n",
       "Brooklyn             16  1084\n",
       "Manhattan            10   389\n",
       "Queens               26   495\n",
       "Staten Island         9   140"
      ]
     },
     "execution_count": 64,
     "metadata": {},
     "output_type": "execute_result"
    }
   ],
   "source": [
    "owner_dummy[['Borough', 'P/NP', 'OwnerType']].groupby(['Borough', 'P/NP']).count().unstack('P/NP')"
   ]
  },
  {
   "cell_type": "code",
   "execution_count": 65,
   "metadata": {
    "collapsed": false
   },
   "outputs": [
    {
     "data": {
      "text/plain": [
       "Index(['NP', 'P'], dtype='object', name='P/NP')"
      ]
     },
     "execution_count": 65,
     "metadata": {},
     "output_type": "execute_result"
    }
   ],
   "source": [
    "_.columns.get_level_values(1)"
   ]
  },
  {
   "cell_type": "code",
   "execution_count": 49,
   "metadata": {
    "collapsed": false
   },
   "outputs": [
    {
     "data": {
      "text/plain": [
       "<matplotlib.axes._subplots.AxesSubplot at 0xbbb56a0>"
      ]
     },
     "execution_count": 49,
     "metadata": {},
     "output_type": "execute_result"
    },
    {
     "data": {
      "image/png": "[encoded data removed]",
      "text/plain": [
       "<matplotlib.figure.Figure at 0xb463ba8>"
      ]
     },
     "metadata": {},
     "output_type": "display_data"
    }
   ],
   "source": [
    "_.plot.bar()"
   ]
  },
  {
   "cell_type": "markdown",
   "metadata": {},
   "source": [
    "Then using `pivot_table`, which does the same thing&mdash;almost. It does it a little more clearly because the `OwnerName` dummy is not instantiated as a multi-level column index.\n",
    "\n",
    "FYI you can correct that annoyance in the `groupby` go-around using:\n",
    "\n",
    "    _.columns = _.columns.get_level_values(1)"
   ]
  },
  {
   "cell_type": "code",
   "execution_count": 70,
   "metadata": {
    "collapsed": false
   },
   "outputs": [
    {
     "data": {
      "text/html": [
       "<div>\n",
       "<table border=\"1\" class=\"dataframe\">\n",
       "  <thead>\n",
       "    <tr style=\"text-align: right;\">\n",
       "      <th>P/NP</th>\n",
       "      <th>NP</th>\n",
       "      <th>P</th>\n",
       "    </tr>\n",
       "    <tr>\n",
       "      <th>Borough</th>\n",
       "      <th></th>\n",
       "      <th></th>\n",
       "    </tr>\n",
       "  </thead>\n",
       "  <tbody>\n",
       "    <tr>\n",
       "      <th>Bronx</th>\n",
       "      <td>2578</td>\n",
       "      <td>430</td>\n",
       "    </tr>\n",
       "    <tr>\n",
       "      <th>Brooklyn</th>\n",
       "      <td>6765</td>\n",
       "      <td>1084</td>\n",
       "    </tr>\n",
       "    <tr>\n",
       "      <th>Manhattan</th>\n",
       "      <td>658</td>\n",
       "      <td>389</td>\n",
       "    </tr>\n",
       "    <tr>\n",
       "      <th>Queens</th>\n",
       "      <td>9425</td>\n",
       "      <td>495</td>\n",
       "    </tr>\n",
       "    <tr>\n",
       "      <th>Staten Island</th>\n",
       "      <td>3805</td>\n",
       "      <td>140</td>\n",
       "    </tr>\n",
       "  </tbody>\n",
       "</table>\n",
       "</div>"
      ],
      "text/plain": [
       "P/NP             NP     P\n",
       "Borough                  \n",
       "Bronx          2578   430\n",
       "Brooklyn       6765  1084\n",
       "Manhattan       658   389\n",
       "Queens         9425   495\n",
       "Staten Island  3805   140"
      ]
     },
     "execution_count": 70,
     "metadata": {},
     "output_type": "execute_result"
    }
   ],
   "source": [
    "owner_dummy.pivot_table('OwnerName', index='Borough', columns='P/NP', aggfunc=pd.Series.count)"
   ]
  },
  {
   "cell_type": "code",
   "execution_count": 59,
   "metadata": {
    "collapsed": false,
    "scrolled": false
   },
   "outputs": [
    {
     "data": {
      "text/plain": [
       "<matplotlib.axes._subplots.AxesSubplot at 0xbbfd5f8>"
      ]
     },
     "execution_count": 59,
     "metadata": {},
     "output_type": "execute_result"
    },
    {
     "data": {
      "image/png": "[encoded data removed]",
      "text/plain": [
       "<matplotlib.figure.Figure at 0xbc35eb8>"
      ]
     },
     "metadata": {},
     "output_type": "display_data"
    }
   ],
   "source": [
    "_.plot.bar()"
   ]
  },
  {
   "cell_type": "markdown",
   "metadata": {},
   "source": [
    "`crosstab` currys `pivot_table` to make this aggregation a teensy bit easier to write:"
   ]
  },
  {
   "cell_type": "code",
   "execution_count": 71,
   "metadata": {
    "collapsed": false,
    "scrolled": true
   },
   "outputs": [
    {
     "data": {
      "text/html": [
       "<div>\n",
       "<table border=\"1\" class=\"dataframe\">\n",
       "  <thead>\n",
       "    <tr style=\"text-align: right;\">\n",
       "      <th>P/NP</th>\n",
       "      <th>NP</th>\n",
       "      <th>P</th>\n",
       "    </tr>\n",
       "    <tr>\n",
       "      <th>Borough</th>\n",
       "      <th></th>\n",
       "      <th></th>\n",
       "    </tr>\n",
       "  </thead>\n",
       "  <tbody>\n",
       "    <tr>\n",
       "      <th>Bronx</th>\n",
       "      <td>2593</td>\n",
       "      <td>430</td>\n",
       "    </tr>\n",
       "    <tr>\n",
       "      <th>Brooklyn</th>\n",
       "      <td>6766</td>\n",
       "      <td>1084</td>\n",
       "    </tr>\n",
       "    <tr>\n",
       "      <th>Manhattan</th>\n",
       "      <td>658</td>\n",
       "      <td>389</td>\n",
       "    </tr>\n",
       "    <tr>\n",
       "      <th>Queens</th>\n",
       "      <td>9444</td>\n",
       "      <td>495</td>\n",
       "    </tr>\n",
       "    <tr>\n",
       "      <th>Staten Island</th>\n",
       "      <td>3811</td>\n",
       "      <td>140</td>\n",
       "    </tr>\n",
       "  </tbody>\n",
       "</table>\n",
       "</div>"
      ],
      "text/plain": [
       "P/NP             NP     P\n",
       "Borough                  \n",
       "Bronx          2593   430\n",
       "Brooklyn       6766  1084\n",
       "Manhattan       658   389\n",
       "Queens         9444   495\n",
       "Staten Island  3811   140"
      ]
     },
     "execution_count": 71,
     "metadata": {},
     "output_type": "execute_result"
    }
   ],
   "source": [
    "pd.crosstab(owner_dummy['Borough'], owner_dummy['P/NP'])"
   ]
  },
  {
   "cell_type": "code",
   "execution_count": 73,
   "metadata": {
    "collapsed": false
   },
   "outputs": [
    {
     "data": {
      "text/plain": [
       "<matplotlib.axes._subplots.AxesSubplot at 0xbd8a668>"
      ]
     },
     "execution_count": 73,
     "metadata": {},
     "output_type": "execute_result"
    },
    {
     "data": {
      "image/png": "[encoded data removed]",
      "text/plain": [
       "<matplotlib.figure.Figure at 0xbd7fe10>"
      ]
     },
     "metadata": {},
     "output_type": "display_data"
    }
   ],
   "source": [
    "_.plot.bar()"
   ]
  },
  {
   "cell_type": "markdown",
   "metadata": {},
   "source": [
    "This is all a *lot* easier in `seaborn`."
   ]
  },
  {
   "cell_type": "code",
   "execution_count": 76,
   "metadata": {
    "collapsed": false
   },
   "outputs": [
    {
     "data": {
      "text/plain": [
       "<matplotlib.axes._subplots.AxesSubplot at 0xbca29e8>"
      ]
     },
     "execution_count": 76,
     "metadata": {},
     "output_type": "execute_result"
    },
    {
     "data": {
      "image/png": "[encoded data removed]",
      "text/plain": [
       "<matplotlib.figure.Figure at 0xbd94d68>"
      ]
     },
     "metadata": {},
     "output_type": "display_data"
    }
   ],
   "source": [
    "sns.countplot(x='Borough', hue='P/NP', data=owner_dummy)"
   ]
  },
  {
   "cell_type": "markdown",
   "metadata": {},
   "source": [
    "`seaborn` makes a slightly weird distinction between `countplot` (what one would classically think of as a bar chart) and `barplot` (an aggregate-function chart not necessarily beholden to `pandas.Series.count`)."
   ]
  },
  {
   "cell_type": "markdown",
   "metadata": {},
   "source": [
    "## Stacked bar chart"
   ]
  },
  {
   "cell_type": "markdown",
   "metadata": {},
   "source": [
    "The `pandas` semantics are all the same, the only thing that changes is passing a `stacked=True` argument:"
   ]
  },
  {
   "cell_type": "code",
   "execution_count": 77,
   "metadata": {
    "collapsed": false
   },
   "outputs": [
    {
     "data": {
      "text/plain": [
       "<matplotlib.axes._subplots.AxesSubplot at 0xbed41d0>"
      ]
     },
     "execution_count": 77,
     "metadata": {},
     "output_type": "execute_result"
    },
    {
     "data": {
      "image/png": "[encoded data removed]",
      "text/plain": [
       "<matplotlib.figure.Figure at 0xbedd8d0>"
      ]
     },
     "metadata": {},
     "output_type": "display_data"
    }
   ],
   "source": [
    "pd.crosstab(owner_dummy['Borough'], owner_dummy['P/NP']).plot.bar(stacked=True)"
   ]
  },
  {
   "cell_type": "markdown",
   "metadata": {},
   "source": [
    "`seaborn` doesn't do stacked bar charts. If you really want it you can force the issue, see [this blog post](http://randyzwitch.com/creating-stacked-bar-chart-seaborn/), but it's not worthwhile, just use `pandas` for these."
   ]
  },
  {
   "cell_type": "markdown",
   "metadata": {},
   "source": [
    "## Horizontal bar chart"
   ]
  },
  {
   "cell_type": "markdown",
   "metadata": {},
   "source": [
    "`pandas` defines a `barh` for these."
   ]
  },
  {
   "cell_type": "code",
   "execution_count": 78,
   "metadata": {
    "collapsed": false
   },
   "outputs": [
    {
     "data": {
      "text/plain": [
       "<matplotlib.axes._subplots.AxesSubplot at 0xbf58be0>"
      ]
     },
     "execution_count": 78,
     "metadata": {},
     "output_type": "execute_result"
    },
    {
     "data": {
      "image/png": "[encoded data removed]",
      "text/plain": [
       "<matplotlib.figure.Figure at 0xbfc5550>"
      ]
     },
     "metadata": {},
     "output_type": "display_data"
    }
   ],
   "source": [
    "pd.crosstab(owner_dummy['Borough'], owner_dummy['P/NP']).plot.barh()"
   ]
  },
  {
   "cell_type": "markdown",
   "metadata": {},
   "source": [
    "In `seaborn` you just change `x` to `y`."
   ]
  },
  {
   "cell_type": "code",
   "execution_count": 79,
   "metadata": {
    "collapsed": false,
    "scrolled": true
   },
   "outputs": [
    {
     "data": {
      "text/plain": [
       "<matplotlib.axes._subplots.AxesSubplot at 0xbff3278>"
      ]
     },
     "execution_count": 79,
     "metadata": {},
     "output_type": "execute_result"
    },
    {
     "data": {
      "image/png": "[encoded data removed]",
      "text/plain": [
       "<matplotlib.figure.Figure at 0xbee2358>"
      ]
     },
     "metadata": {},
     "output_type": "display_data"
    }
   ],
   "source": [
    "sns.countplot(y='Borough', hue='P/NP', data=owner_dummy)"
   ]
  },
  {
   "cell_type": "markdown",
   "metadata": {},
   "source": [
    "K."
   ]
  },
  {
   "cell_type": "markdown",
   "metadata": {},
   "source": [
    "## Aggregated bar chart"
   ]
  },
  {
   "cell_type": "markdown",
   "metadata": {},
   "source": [
    "These are bar charts using some sort of statistical aggregator besides `pd.Series.count`, e.g. (`np.mean`, `np.median`, etc.). Only `seaborn` has these."
   ]
  },
  {
   "cell_type": "code",
   "execution_count": 84,
   "metadata": {
    "collapsed": false
   },
   "outputs": [
    {
     "data": {
      "text/plain": [
       "<matplotlib.axes._subplots.AxesSubplot at 0xc8c7a90>"
      ]
     },
     "execution_count": 84,
     "metadata": {},
     "output_type": "execute_result"
    },
    {
     "data": {
      "image/png": "[encoded data removed]",
      "text/plain": [
       "<matplotlib.figure.Figure at 0xc925b38>"
      ]
     },
     "metadata": {},
     "output_type": "display_data"
    }
   ],
   "source": [
    "sns.barplot(data=owner_dummy, x='Borough', y='SalePrice', estimator=np.median)"
   ]
  },
  {
   "cell_type": "markdown",
   "metadata": {},
   "source": [
    "`seaborn` also does small multiples, though I haven't explored that very heavily yet."
   ]
  },
  {
   "cell_type": "markdown",
   "metadata": {},
   "source": [
    "## Simple histogram"
   ]
  },
  {
   "cell_type": "markdown",
   "metadata": {},
   "source": [
    "Easy to do in `pandas`."
   ]
  },
  {
   "cell_type": "code",
   "execution_count": 97,
   "metadata": {
    "collapsed": true
   },
   "outputs": [],
   "source": [
    "small_owner_dummy = owner_dummy[owner_dummy['SalePrice'] < 1*10**6]"
   ]
  },
  {
   "cell_type": "code",
   "execution_count": 151,
   "metadata": {
    "collapsed": false
   },
   "outputs": [
    {
     "data": {
      "text/plain": [
       "<matplotlib.axes._subplots.AxesSubplot at 0x158fb320>"
      ]
     },
     "execution_count": 151,
     "metadata": {},
     "output_type": "execute_result"
    },
    {
     "data": {
      "image/png": "[encoded data removed]",
      "text/plain": [
       "<matplotlib.figure.Figure at 0x159cc470>"
      ]
     },
     "metadata": {},
     "output_type": "display_data"
    }
   ],
   "source": [
    "small_owner_dummy[['SalePrice']].plot.hist(bins=20)"
   ]
  },
  {
   "cell_type": "markdown",
   "metadata": {},
   "source": [
    "Easy to do in `seaborn`, with the added benefit that you can add a rugplot or fit a KDE or any other distribution on top, so `seaborn` is much more powerful here.\n",
    "\n",
    "Note that the KDE does reliably screw up the axis it's on."
   ]
  },
  {
   "cell_type": "code",
   "execution_count": 150,
   "metadata": {
    "collapsed": false
   },
   "outputs": [
    {
     "name": "stderr",
     "output_type": "stream",
     "text": [
      "C:\\Users\\Alex\\Anaconda3\\lib\\site-packages\\statsmodels\\nonparametric\\kdetools.py:20: VisibleDeprecationWarning: using a non-integer number instead of an integer will result in an error in the future\n",
      "  y = X[:m/2+1] + np.r_[0,X[m/2+1:],0]*1j\n"
     ]
    },
    {
     "data": {
      "text/plain": [
       "<matplotlib.axes._subplots.AxesSubplot at 0x1583d550>"
      ]
     },
     "execution_count": 150,
     "metadata": {},
     "output_type": "execute_result"
    },
    {
     "data": {
      "image/png": "[encoded data removed]",
      "text/plain": [
       "<matplotlib.figure.Figure at 0x158713c8>"
      ]
     },
     "metadata": {},
     "output_type": "display_data"
    }
   ],
   "source": [
    "sns.distplot(small_owner_dummy[['SalePrice']], bins=20)"
   ]
  },
  {
   "cell_type": "markdown",
   "metadata": {},
   "source": [
    "Note that both of these methods are touch-ups of `matplotlib.pyplot.hist`."
   ]
  },
  {
   "cell_type": "markdown",
   "metadata": {},
   "source": [
    "## Stacked histogram"
   ]
  },
  {
   "cell_type": "markdown",
   "metadata": {},
   "source": [
    "The canonical example in `pandas` is once again observation-based."
   ]
  },
  {
   "cell_type": "code",
   "execution_count": 117,
   "metadata": {
    "collapsed": false,
    "scrolled": true
   },
   "outputs": [
    {
     "data": {
      "text/html": [
       "<div>\n",
       "<table border=\"1\" class=\"dataframe\">\n",
       "  <thead>\n",
       "    <tr style=\"text-align: right;\">\n",
       "      <th></th>\n",
       "      <th>a</th>\n",
       "      <th>b</th>\n",
       "      <th>c</th>\n",
       "    </tr>\n",
       "  </thead>\n",
       "  <tbody>\n",
       "    <tr>\n",
       "      <th>0</th>\n",
       "      <td>-0.616206</td>\n",
       "      <td>1.894457</td>\n",
       "      <td>0.003235</td>\n",
       "    </tr>\n",
       "    <tr>\n",
       "      <th>1</th>\n",
       "      <td>1.095723</td>\n",
       "      <td>-0.567418</td>\n",
       "      <td>0.104186</td>\n",
       "    </tr>\n",
       "    <tr>\n",
       "      <th>2</th>\n",
       "      <td>0.990704</td>\n",
       "      <td>-0.491982</td>\n",
       "      <td>-1.818339</td>\n",
       "    </tr>\n",
       "    <tr>\n",
       "      <th>3</th>\n",
       "      <td>0.567149</td>\n",
       "      <td>0.063483</td>\n",
       "      <td>-0.463576</td>\n",
       "    </tr>\n",
       "    <tr>\n",
       "      <th>4</th>\n",
       "      <td>-0.853387</td>\n",
       "      <td>-0.131489</td>\n",
       "      <td>-0.393638</td>\n",
       "    </tr>\n",
       "    <tr>\n",
       "      <th>5</th>\n",
       "      <td>0.969431</td>\n",
       "      <td>0.950628</td>\n",
       "      <td>-1.464676</td>\n",
       "    </tr>\n",
       "    <tr>\n",
       "      <th>6</th>\n",
       "      <td>0.439998</td>\n",
       "      <td>0.829403</td>\n",
       "      <td>0.291374</td>\n",
       "    </tr>\n",
       "    <tr>\n",
       "      <th>7</th>\n",
       "      <td>1.717504</td>\n",
       "      <td>-0.147075</td>\n",
       "      <td>-1.029949</td>\n",
       "    </tr>\n",
       "    <tr>\n",
       "      <th>8</th>\n",
       "      <td>1.836550</td>\n",
       "      <td>-0.733489</td>\n",
       "      <td>-1.140514</td>\n",
       "    </tr>\n",
       "    <tr>\n",
       "      <th>9</th>\n",
       "      <td>2.622712</td>\n",
       "      <td>1.812765</td>\n",
       "      <td>-1.435949</td>\n",
       "    </tr>\n",
       "    <tr>\n",
       "      <th>10</th>\n",
       "      <td>2.147121</td>\n",
       "      <td>2.074708</td>\n",
       "      <td>-1.008429</td>\n",
       "    </tr>\n",
       "    <tr>\n",
       "      <th>11</th>\n",
       "      <td>1.180202</td>\n",
       "      <td>-0.286859</td>\n",
       "      <td>0.070515</td>\n",
       "    </tr>\n",
       "    <tr>\n",
       "      <th>12</th>\n",
       "      <td>1.297227</td>\n",
       "      <td>-0.880570</td>\n",
       "      <td>-1.358592</td>\n",
       "    </tr>\n",
       "    <tr>\n",
       "      <th>13</th>\n",
       "      <td>1.614072</td>\n",
       "      <td>0.776860</td>\n",
       "      <td>-1.880038</td>\n",
       "    </tr>\n",
       "    <tr>\n",
       "      <th>14</th>\n",
       "      <td>2.124107</td>\n",
       "      <td>-0.915465</td>\n",
       "      <td>-2.057002</td>\n",
       "    </tr>\n",
       "    <tr>\n",
       "      <th>15</th>\n",
       "      <td>1.396311</td>\n",
       "      <td>-1.756661</td>\n",
       "      <td>-1.833984</td>\n",
       "    </tr>\n",
       "    <tr>\n",
       "      <th>16</th>\n",
       "      <td>-0.909524</td>\n",
       "      <td>-3.136183</td>\n",
       "      <td>-2.577525</td>\n",
       "    </tr>\n",
       "    <tr>\n",
       "      <th>17</th>\n",
       "      <td>1.069700</td>\n",
       "      <td>0.295982</td>\n",
       "      <td>-1.348552</td>\n",
       "    </tr>\n",
       "    <tr>\n",
       "      <th>18</th>\n",
       "      <td>1.194748</td>\n",
       "      <td>0.622795</td>\n",
       "      <td>-1.374669</td>\n",
       "    </tr>\n",
       "    <tr>\n",
       "      <th>19</th>\n",
       "      <td>1.320579</td>\n",
       "      <td>-0.158830</td>\n",
       "      <td>-1.547683</td>\n",
       "    </tr>\n",
       "    <tr>\n",
       "      <th>20</th>\n",
       "      <td>0.842229</td>\n",
       "      <td>-2.400479</td>\n",
       "      <td>-1.697537</td>\n",
       "    </tr>\n",
       "    <tr>\n",
       "      <th>21</th>\n",
       "      <td>0.230863</td>\n",
       "      <td>-0.050404</td>\n",
       "      <td>-3.001141</td>\n",
       "    </tr>\n",
       "    <tr>\n",
       "      <th>22</th>\n",
       "      <td>-0.948197</td>\n",
       "      <td>0.643345</td>\n",
       "      <td>-2.120836</td>\n",
       "    </tr>\n",
       "    <tr>\n",
       "      <th>23</th>\n",
       "      <td>1.076166</td>\n",
       "      <td>0.950481</td>\n",
       "      <td>-1.146903</td>\n",
       "    </tr>\n",
       "    <tr>\n",
       "      <th>24</th>\n",
       "      <td>-0.080943</td>\n",
       "      <td>-0.222890</td>\n",
       "      <td>0.204251</td>\n",
       "    </tr>\n",
       "    <tr>\n",
       "      <th>25</th>\n",
       "      <td>0.891227</td>\n",
       "      <td>-0.932945</td>\n",
       "      <td>-0.233157</td>\n",
       "    </tr>\n",
       "    <tr>\n",
       "      <th>26</th>\n",
       "      <td>0.871889</td>\n",
       "      <td>0.001141</td>\n",
       "      <td>-2.170004</td>\n",
       "    </tr>\n",
       "    <tr>\n",
       "      <th>27</th>\n",
       "      <td>2.308387</td>\n",
       "      <td>-0.128784</td>\n",
       "      <td>-1.634376</td>\n",
       "    </tr>\n",
       "    <tr>\n",
       "      <th>28</th>\n",
       "      <td>2.565670</td>\n",
       "      <td>0.683391</td>\n",
       "      <td>-1.571553</td>\n",
       "    </tr>\n",
       "    <tr>\n",
       "      <th>29</th>\n",
       "      <td>-0.246342</td>\n",
       "      <td>-0.916095</td>\n",
       "      <td>-0.475430</td>\n",
       "    </tr>\n",
       "    <tr>\n",
       "      <th>...</th>\n",
       "      <td>...</td>\n",
       "      <td>...</td>\n",
       "      <td>...</td>\n",
       "    </tr>\n",
       "    <tr>\n",
       "      <th>970</th>\n",
       "      <td>0.405188</td>\n",
       "      <td>0.030618</td>\n",
       "      <td>-1.554583</td>\n",
       "    </tr>\n",
       "    <tr>\n",
       "      <th>971</th>\n",
       "      <td>-0.995354</td>\n",
       "      <td>-1.693352</td>\n",
       "      <td>-1.098307</td>\n",
       "    </tr>\n",
       "    <tr>\n",
       "      <th>972</th>\n",
       "      <td>-0.840633</td>\n",
       "      <td>0.000222</td>\n",
       "      <td>-0.909634</td>\n",
       "    </tr>\n",
       "    <tr>\n",
       "      <th>973</th>\n",
       "      <td>1.194231</td>\n",
       "      <td>-0.884668</td>\n",
       "      <td>-1.120421</td>\n",
       "    </tr>\n",
       "    <tr>\n",
       "      <th>974</th>\n",
       "      <td>0.992279</td>\n",
       "      <td>-1.821109</td>\n",
       "      <td>-1.857890</td>\n",
       "    </tr>\n",
       "    <tr>\n",
       "      <th>975</th>\n",
       "      <td>-0.232721</td>\n",
       "      <td>0.221436</td>\n",
       "      <td>-1.533855</td>\n",
       "    </tr>\n",
       "    <tr>\n",
       "      <th>976</th>\n",
       "      <td>1.328734</td>\n",
       "      <td>-1.534750</td>\n",
       "      <td>-1.866442</td>\n",
       "    </tr>\n",
       "    <tr>\n",
       "      <th>977</th>\n",
       "      <td>1.817307</td>\n",
       "      <td>-0.547164</td>\n",
       "      <td>1.011572</td>\n",
       "    </tr>\n",
       "    <tr>\n",
       "      <th>978</th>\n",
       "      <td>2.230495</td>\n",
       "      <td>1.022047</td>\n",
       "      <td>-2.073778</td>\n",
       "    </tr>\n",
       "    <tr>\n",
       "      <th>979</th>\n",
       "      <td>0.175539</td>\n",
       "      <td>1.512278</td>\n",
       "      <td>1.721094</td>\n",
       "    </tr>\n",
       "    <tr>\n",
       "      <th>980</th>\n",
       "      <td>1.605518</td>\n",
       "      <td>1.897755</td>\n",
       "      <td>-2.184345</td>\n",
       "    </tr>\n",
       "    <tr>\n",
       "      <th>981</th>\n",
       "      <td>0.974562</td>\n",
       "      <td>1.300776</td>\n",
       "      <td>-1.383028</td>\n",
       "    </tr>\n",
       "    <tr>\n",
       "      <th>982</th>\n",
       "      <td>1.605880</td>\n",
       "      <td>-1.110539</td>\n",
       "      <td>-0.426175</td>\n",
       "    </tr>\n",
       "    <tr>\n",
       "      <th>983</th>\n",
       "      <td>1.472372</td>\n",
       "      <td>0.938012</td>\n",
       "      <td>-1.959369</td>\n",
       "    </tr>\n",
       "    <tr>\n",
       "      <th>984</th>\n",
       "      <td>0.866168</td>\n",
       "      <td>1.123719</td>\n",
       "      <td>-0.024292</td>\n",
       "    </tr>\n",
       "    <tr>\n",
       "      <th>985</th>\n",
       "      <td>2.375017</td>\n",
       "      <td>0.522564</td>\n",
       "      <td>-1.604306</td>\n",
       "    </tr>\n",
       "    <tr>\n",
       "      <th>986</th>\n",
       "      <td>0.537457</td>\n",
       "      <td>-0.620370</td>\n",
       "      <td>-1.674890</td>\n",
       "    </tr>\n",
       "    <tr>\n",
       "      <th>987</th>\n",
       "      <td>1.941192</td>\n",
       "      <td>-0.425417</td>\n",
       "      <td>-0.802266</td>\n",
       "    </tr>\n",
       "    <tr>\n",
       "      <th>988</th>\n",
       "      <td>1.594667</td>\n",
       "      <td>0.425837</td>\n",
       "      <td>-1.100657</td>\n",
       "    </tr>\n",
       "    <tr>\n",
       "      <th>989</th>\n",
       "      <td>1.604111</td>\n",
       "      <td>1.855661</td>\n",
       "      <td>-1.663021</td>\n",
       "    </tr>\n",
       "    <tr>\n",
       "      <th>990</th>\n",
       "      <td>0.903006</td>\n",
       "      <td>0.377692</td>\n",
       "      <td>1.523486</td>\n",
       "    </tr>\n",
       "    <tr>\n",
       "      <th>991</th>\n",
       "      <td>1.272005</td>\n",
       "      <td>0.097756</td>\n",
       "      <td>-0.572424</td>\n",
       "    </tr>\n",
       "    <tr>\n",
       "      <th>992</th>\n",
       "      <td>0.439131</td>\n",
       "      <td>-0.384417</td>\n",
       "      <td>-0.945343</td>\n",
       "    </tr>\n",
       "    <tr>\n",
       "      <th>993</th>\n",
       "      <td>1.551191</td>\n",
       "      <td>0.482509</td>\n",
       "      <td>-1.077446</td>\n",
       "    </tr>\n",
       "    <tr>\n",
       "      <th>994</th>\n",
       "      <td>0.125115</td>\n",
       "      <td>0.838731</td>\n",
       "      <td>-1.845434</td>\n",
       "    </tr>\n",
       "    <tr>\n",
       "      <th>995</th>\n",
       "      <td>-0.194883</td>\n",
       "      <td>1.457209</td>\n",
       "      <td>0.261651</td>\n",
       "    </tr>\n",
       "    <tr>\n",
       "      <th>996</th>\n",
       "      <td>0.282131</td>\n",
       "      <td>-0.032037</td>\n",
       "      <td>-0.919091</td>\n",
       "    </tr>\n",
       "    <tr>\n",
       "      <th>997</th>\n",
       "      <td>1.978298</td>\n",
       "      <td>-0.645912</td>\n",
       "      <td>-0.828121</td>\n",
       "    </tr>\n",
       "    <tr>\n",
       "      <th>998</th>\n",
       "      <td>1.617365</td>\n",
       "      <td>0.046952</td>\n",
       "      <td>-1.678991</td>\n",
       "    </tr>\n",
       "    <tr>\n",
       "      <th>999</th>\n",
       "      <td>1.395417</td>\n",
       "      <td>-0.339812</td>\n",
       "      <td>0.258605</td>\n",
       "    </tr>\n",
       "  </tbody>\n",
       "</table>\n",
       "<p>1000 rows × 3 columns</p>\n",
       "</div>"
      ],
      "text/plain": [
       "            a         b         c\n",
       "0   -0.616206  1.894457  0.003235\n",
       "1    1.095723 -0.567418  0.104186\n",
       "2    0.990704 -0.491982 -1.818339\n",
       "3    0.567149  0.063483 -0.463576\n",
       "4   -0.853387 -0.131489 -0.393638\n",
       "5    0.969431  0.950628 -1.464676\n",
       "6    0.439998  0.829403  0.291374\n",
       "7    1.717504 -0.147075 -1.029949\n",
       "8    1.836550 -0.733489 -1.140514\n",
       "9    2.622712  1.812765 -1.435949\n",
       "10   2.147121  2.074708 -1.008429\n",
       "11   1.180202 -0.286859  0.070515\n",
       "12   1.297227 -0.880570 -1.358592\n",
       "13   1.614072  0.776860 -1.880038\n",
       "14   2.124107 -0.915465 -2.057002\n",
       "15   1.396311 -1.756661 -1.833984\n",
       "16  -0.909524 -3.136183 -2.577525\n",
       "17   1.069700  0.295982 -1.348552\n",
       "18   1.194748  0.622795 -1.374669\n",
       "19   1.320579 -0.158830 -1.547683\n",
       "20   0.842229 -2.400479 -1.697537\n",
       "21   0.230863 -0.050404 -3.001141\n",
       "22  -0.948197  0.643345 -2.120836\n",
       "23   1.076166  0.950481 -1.146903\n",
       "24  -0.080943 -0.222890  0.204251\n",
       "25   0.891227 -0.932945 -0.233157\n",
       "26   0.871889  0.001141 -2.170004\n",
       "27   2.308387 -0.128784 -1.634376\n",
       "28   2.565670  0.683391 -1.571553\n",
       "29  -0.246342 -0.916095 -0.475430\n",
       "..        ...       ...       ...\n",
       "970  0.405188  0.030618 -1.554583\n",
       "971 -0.995354 -1.693352 -1.098307\n",
       "972 -0.840633  0.000222 -0.909634\n",
       "973  1.194231 -0.884668 -1.120421\n",
       "974  0.992279 -1.821109 -1.857890\n",
       "975 -0.232721  0.221436 -1.533855\n",
       "976  1.328734 -1.534750 -1.866442\n",
       "977  1.817307 -0.547164  1.011572\n",
       "978  2.230495  1.022047 -2.073778\n",
       "979  0.175539  1.512278  1.721094\n",
       "980  1.605518  1.897755 -2.184345\n",
       "981  0.974562  1.300776 -1.383028\n",
       "982  1.605880 -1.110539 -0.426175\n",
       "983  1.472372  0.938012 -1.959369\n",
       "984  0.866168  1.123719 -0.024292\n",
       "985  2.375017  0.522564 -1.604306\n",
       "986  0.537457 -0.620370 -1.674890\n",
       "987  1.941192 -0.425417 -0.802266\n",
       "988  1.594667  0.425837 -1.100657\n",
       "989  1.604111  1.855661 -1.663021\n",
       "990  0.903006  0.377692  1.523486\n",
       "991  1.272005  0.097756 -0.572424\n",
       "992  0.439131 -0.384417 -0.945343\n",
       "993  1.551191  0.482509 -1.077446\n",
       "994  0.125115  0.838731 -1.845434\n",
       "995 -0.194883  1.457209  0.261651\n",
       "996  0.282131 -0.032037 -0.919091\n",
       "997  1.978298 -0.645912 -0.828121\n",
       "998  1.617365  0.046952 -1.678991\n",
       "999  1.395417 -0.339812  0.258605\n",
       "\n",
       "[1000 rows x 3 columns]"
      ]
     },
     "execution_count": 117,
     "metadata": {},
     "output_type": "execute_result"
    }
   ],
   "source": [
    "pd.DataFrame({'a': np.random.randn(1000) + 1, 'b': np.random.randn(1000), 'c': np.random.randn(1000) - 1},\n",
    "             columns=['a', 'b', 'c'])"
   ]
  },
  {
   "cell_type": "code",
   "execution_count": 118,
   "metadata": {
    "collapsed": false
   },
   "outputs": [
    {
     "data": {
      "text/plain": [
       "<matplotlib.axes._subplots.AxesSubplot at 0x130d6550>"
      ]
     },
     "execution_count": 118,
     "metadata": {},
     "output_type": "execute_result"
    },
    {
     "data": {
      "image/png": "[encoded data removed]",
      "text/plain": [
       "<matplotlib.figure.Figure at 0x12e436d8>"
      ]
     },
     "metadata": {},
     "output_type": "display_data"
    }
   ],
   "source": [
    "_.plot.hist(stacked=True)"
   ]
  },
  {
   "cell_type": "markdown",
   "metadata": {},
   "source": [
    "You can use `pivot` or, as I've gotten used to `set_index()` and `unstack()` to reshape the data into this format."
   ]
  },
  {
   "cell_type": "code",
   "execution_count": 161,
   "metadata": {
    "collapsed": false,
    "scrolled": true
   },
   "outputs": [],
   "source": [
    "d = small_owner_dummy[['SalePrice', 'P/NP']].set_index([small_owner_dummy.index, 'P/NP']).unstack('P/NP')"
   ]
  },
  {
   "cell_type": "code",
   "execution_count": 162,
   "metadata": {
    "collapsed": false
   },
   "outputs": [
    {
     "data": {
      "text/plain": [
       "<matplotlib.axes._subplots.AxesSubplot at 0x11c88080>"
      ]
     },
     "execution_count": 162,
     "metadata": {},
     "output_type": "execute_result"
    },
    {
     "data": {
      "image/png": "[encoded data removed]",
      "text/plain": [
       "<matplotlib.figure.Figure at 0x16b5d5c0>"
      ]
     },
     "metadata": {},
     "output_type": "display_data"
    }
   ],
   "source": [
    "d.plot.hist(stacked=True)"
   ]
  },
  {
   "cell_type": "code",
   "execution_count": 165,
   "metadata": {
    "collapsed": false
   },
   "outputs": [
    {
     "data": {
      "text/plain": [
       "<matplotlib.axes._subplots.AxesSubplot at 0x16ce6898>"
      ]
     },
     "execution_count": 165,
     "metadata": {},
     "output_type": "execute_result"
    },
    {
     "data": {
      "image/png": "[encoded data removed]",
      "text/plain": [
       "<matplotlib.figure.Figure at 0x16d5b630>"
      ]
     },
     "metadata": {},
     "output_type": "display_data"
    }
   ],
   "source": [
    "d.plot.hist(stacked=True, cumulative=True)"
   ]
  },
  {
   "cell_type": "code",
   "execution_count": 167,
   "metadata": {
    "collapsed": false
   },
   "outputs": [
    {
     "data": {
      "text/plain": [
       "<matplotlib.axes._subplots.AxesSubplot at 0x16f9dfd0>"
      ]
     },
     "execution_count": 167,
     "metadata": {},
     "output_type": "execute_result"
    },
    {
     "data": {
      "image/png": "[encoded data removed]",
      "text/plain": [
       "<matplotlib.figure.Figure at 0x16f93400>"
      ]
     },
     "metadata": {},
     "output_type": "display_data"
    }
   ],
   "source": [
    "d.plot.hist(stacked=True, orientation='horizontal')"
   ]
  },
  {
   "cell_type": "markdown",
   "metadata": {},
   "source": [
    "The issue with the useless multi-level columnular index is the same as it was in the bar chart examples, and the solution is again the same, actually use `pivot()` or use the following:\n",
    "\n",
    "    _.columns = _.columns.get_level_values(1)\n",
    "    \n",
    "`seaborn` doesn't do this fancy stacking stuff...man."
   ]
  }
 ],
 "metadata": {
  "kernelspec": {
   "display_name": "Python 3",
   "language": "python",
   "name": "python3"
  },
  "language_info": {
   "codemirror_mode": {
    "name": "ipython",
    "version": 3
   },
   "file_extension": ".py",
   "mimetype": "text/x-python",
   "name": "python",
   "nbconvert_exporter": "python",
   "pygments_lexer": "ipython3",
   "version": "3.5.1"
  }
 },
 "nbformat": 4,
 "nbformat_minor": 0
}
